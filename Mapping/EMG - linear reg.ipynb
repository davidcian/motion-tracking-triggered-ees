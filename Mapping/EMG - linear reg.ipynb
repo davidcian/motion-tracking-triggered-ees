{
 "cells": [
  {
   "cell_type": "code",
   "execution_count": 2,
   "metadata": {},
   "outputs": [],
   "source": [
    "# pandas / numpy\n",
    "import pandas as pd\n",
    "import numpy as np\n",
    "\n",
    "# plotting\n",
    "import matplotlib.pyplot as plt\n",
    "import seaborn as sns\n",
    "import math\n",
    "\n",
    "# linear regression for multioutput regression\n",
    "from sklearn.datasets import make_regression\n",
    "from sklearn.linear_model import LinearRegression\n",
    "\n",
    "# linear fit using statsmodels\n",
    "import statsmodels.api as sm\n",
    "import statsmodels.formula.api as smf"
   ]
  },
  {
   "cell_type": "code",
   "execution_count": null,
   "metadata": {},
   "outputs": [],
   "source": [
    "# Load the data\n",
    "PATH = ''\n",
    "EMG1_FILE_NAME = '.csv'\n",
    "EMG2_FILE_NAME = '.csv'\n",
    "ANGLES_FILE_NAME = '.csv'\n",
    "df_emg1 = pd.read_csv(PATH+EMG1_FILE_NAME, compression='infer', on_bad_lines='warn')\n",
    "df_emg2 = pd.read_csv(PATH+EMG2_FILE_NAME, compression='infer', on_bad_lines='warn')\n",
    "df_angles = pd.read_csv(PATH+ANGLES_FILE_NAME, compression='infer', on_bad_lines='warn')\n",
    "\n"
   ]
  },
  {
   "cell_type": "code",
   "execution_count": null,
   "metadata": {},
   "outputs": [],
   "source": [
    "# Create Dataframe w/ angles and EMG\n",
    "df_angles = import\n",
    "df = pd.concat([df_angles,df_emg1,df_emg2]], axis=1)"
   ]
  },
  {
   "cell_type": "code",
   "execution_count": null,
   "metadata": {},
   "outputs": [],
   "source": [
    "#Model param\n",
    "nb_angles = 8\n",
    "nb_samples = len(df)\n",
    "nb_emg = 27\n",
    "n_features=nb_angles\n",
    "n_informative=nb_angles\n",
    "n_targets=nb_emg\n",
    "\n",
    "# define model\n",
    "model = LinearRegression()\n",
    "# fit model\n",
    "reg = model.fit(X, y)\n",
    "beta_hat = [reg.intercept_] + reg.coef_.tolist()"
   ]
  },
  {
   "cell_type": "code",
   "execution_count": null,
   "metadata": {},
   "outputs": [],
   "source": [
    "# compute the p-values\n",
    "from scipy.stats import t\n",
    "# add ones column\n",
    "X1 = np.column_stack((np.ones(n), X))\n",
    "# standard deviation of the noise.\n",
    "sigma_hat = np.sqrt(np.sum(np.square(y - X1@beta_hat)) / (n - X1.shape[1]))\n",
    "# estimate the covariance matrix for beta \n",
    "beta_cov = np.linalg.inv(X1.T@X1)\n",
    "# the t-test statistic for each variable from the formula from above figure\n",
    "t_vals = beta_hat / (sigma_hat * np.sqrt(np.diagonal(beta_cov)))\n",
    "# compute 2-sided p-values.\n",
    "p_vals = t.sf(np.abs(t_vals), n-X1.shape[1])*2 \n",
    "t_vals\n",
    "# array([ 0.37424023, -2.36373529,  3.57930174])\n",
    "p_vals\n",
    "# array([7.09042437e-01, 2.00854025e-02, 5.40073114e-04])"
   ]
  },
  {
   "cell_type": "code",
   "execution_count": null,
   "metadata": {},
   "outputs": [],
   "source": [
    "# make a prediction based on \n",
    "row = [0.21947749, 0.32948997, 0.81560036, 0.440956, -0.0606303, -0.29257894, -0.2820059, -0.00290545, 0.96402263, 0.04992249]\n",
    "yhat = model.predict([row])\n",
    "# summarize prediction\n",
    "print(yhat[0])"
   ]
  }
 ],
 "metadata": {
  "interpreter": {
   "hash": "f8d2abd0fdcca308ad0c8c261050b3e27492c45d61aeb9bbf0e7e8e13b749c89"
  },
  "kernelspec": {
   "display_name": "Python 3.9.5 64-bit ('DifferentialDrivePathTracking-oi0KI328': venv)",
   "language": "python",
   "name": "python3"
  },
  "language_info": {
   "codemirror_mode": {
    "name": "ipython",
    "version": 3
   },
   "file_extension": ".py",
   "mimetype": "text/x-python",
   "name": "python",
   "nbconvert_exporter": "python",
   "pygments_lexer": "ipython3",
   "version": "3.8.5"
  },
  "orig_nbformat": 4
 },
 "nbformat": 4,
 "nbformat_minor": 2
}
