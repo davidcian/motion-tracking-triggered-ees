{
 "cells": [
  {
   "cell_type": "code",
   "execution_count": 1,
   "metadata": {},
   "outputs": [],
   "source": [
    "# pandas / numpy\n",
    "import pandas as pd\n",
    "import numpy as np\n",
    "\n",
    "# plotting\n",
    "import matplotlib.pyplot as plt\n",
    "import seaborn as sns\n",
    "import math\n",
    "\n",
    "# linear regression for multioutput regression\n",
    "from sklearn.datasets import make_regression\n",
    "from sklearn import linear_model\n",
    "from sklearn.linear_model import LinearRegression\n",
    "from scipy import stats\n",
    "from sklearn.feature_selection import chi2\n",
    "\n",
    "# linear fit using statsmodels\n",
    "import statsmodels.api as sm\n",
    "import statsmodels.formula.api as smf\n",
    "import statsmodels.api as sm\n",
    "import scipy as sc\n",
    "from scipy.stats import t"
   ]
  },
  {
   "cell_type": "code",
   "execution_count": 2,
   "metadata": {},
   "outputs": [],
   "source": [
    "# Load the data\n",
    "PATH = '/Users/amaellebidet/Desktop/Sensorimotor_neuroprosthetics/motion-tracking-triggered-ees/EMG_analysis/data/'\n",
    "EMG1_FILE_NAME = 'sys1.csv'\n",
    "EMG2_FILE_NAME = 'sys2.csv'\n",
    "ANGLES_FILE_NAME = 'alex.csv'\n",
    "angles_list = [\"angle_1\", \"angle_2\", \"angle_3\", \"angle_4\", \"angle_5\", \"angle_6\", \"angle_7\", \"angle_8\"]\n",
    "muscles_list_1 = [\"The\", \"FPL\", \"APL\", \"FD2\", \"Brach1\", \"FCR\", \"ECR\", \"PT\", \"FD34\", \"Brach2\", \"FCU\", \"ECU\", \"ED\", \"BBlg\", \"LatDor\"]\n",
    "muscles_list_2 = [\"BBsh\", \"TBlg\", \"TBlat\", \"DELant\", \"DELmed\", \"DELpost\", \"PMcl\", \"PMst\", \"Infra\", \"Supra\", \"TRhigh\", \"TRmed\"]\n",
    "df_emg1 = pd.read_csv(PATH+EMG1_FILE_NAME, compression='infer', on_bad_lines='warn',names=muscles_list_1)\n",
    "df_emg2 = pd.read_csv(PATH+EMG2_FILE_NAME, compression='infer', on_bad_lines='warn',names=muscles_list_2)\n",
    "df_angles = pd.read_csv(PATH+ANGLES_FILE_NAME, compression='infer', on_bad_lines='warn',names=angles_list)\n"
   ]
  },
  {
   "cell_type": "code",
   "execution_count": 3,
   "metadata": {},
   "outputs": [
    {
     "data": {
      "text/html": [
       "<div>\n",
       "<style scoped>\n",
       "    .dataframe tbody tr th:only-of-type {\n",
       "        vertical-align: middle;\n",
       "    }\n",
       "\n",
       "    .dataframe tbody tr th {\n",
       "        vertical-align: top;\n",
       "    }\n",
       "\n",
       "    .dataframe thead th {\n",
       "        text-align: right;\n",
       "    }\n",
       "</style>\n",
       "<table border=\"1\" class=\"dataframe\">\n",
       "  <thead>\n",
       "    <tr style=\"text-align: right;\">\n",
       "      <th></th>\n",
       "      <th>angle_1</th>\n",
       "      <th>angle_2</th>\n",
       "      <th>angle_3</th>\n",
       "      <th>angle_4</th>\n",
       "      <th>angle_5</th>\n",
       "      <th>angle_6</th>\n",
       "      <th>angle_7</th>\n",
       "      <th>angle_8</th>\n",
       "    </tr>\n",
       "  </thead>\n",
       "  <tbody>\n",
       "    <tr>\n",
       "      <th>0</th>\n",
       "      <td>-0.56164</td>\n",
       "      <td>-0.049700</td>\n",
       "      <td>0.049700</td>\n",
       "      <td>-0.049700</td>\n",
       "      <td>0.063262</td>\n",
       "      <td>-1.2861</td>\n",
       "      <td>0.016174</td>\n",
       "      <td>-0.77677</td>\n",
       "    </tr>\n",
       "    <tr>\n",
       "      <th>1</th>\n",
       "      <td>-0.56164</td>\n",
       "      <td>-0.049682</td>\n",
       "      <td>0.049682</td>\n",
       "      <td>-0.049682</td>\n",
       "      <td>0.063269</td>\n",
       "      <td>-1.2861</td>\n",
       "      <td>0.016169</td>\n",
       "      <td>-0.77676</td>\n",
       "    </tr>\n",
       "    <tr>\n",
       "      <th>2</th>\n",
       "      <td>-0.56164</td>\n",
       "      <td>-0.049664</td>\n",
       "      <td>0.049664</td>\n",
       "      <td>-0.049664</td>\n",
       "      <td>0.063277</td>\n",
       "      <td>-1.2861</td>\n",
       "      <td>0.016164</td>\n",
       "      <td>-0.77674</td>\n",
       "    </tr>\n",
       "    <tr>\n",
       "      <th>3</th>\n",
       "      <td>-0.56164</td>\n",
       "      <td>-0.049647</td>\n",
       "      <td>0.049647</td>\n",
       "      <td>-0.049647</td>\n",
       "      <td>0.063284</td>\n",
       "      <td>-1.2861</td>\n",
       "      <td>0.016160</td>\n",
       "      <td>-0.77673</td>\n",
       "    </tr>\n",
       "    <tr>\n",
       "      <th>4</th>\n",
       "      <td>-0.56164</td>\n",
       "      <td>-0.049630</td>\n",
       "      <td>0.049630</td>\n",
       "      <td>-0.049630</td>\n",
       "      <td>0.063291</td>\n",
       "      <td>-1.2861</td>\n",
       "      <td>0.016156</td>\n",
       "      <td>-0.77671</td>\n",
       "    </tr>\n",
       "    <tr>\n",
       "      <th>...</th>\n",
       "      <td>...</td>\n",
       "      <td>...</td>\n",
       "      <td>...</td>\n",
       "      <td>...</td>\n",
       "      <td>...</td>\n",
       "      <td>...</td>\n",
       "      <td>...</td>\n",
       "      <td>...</td>\n",
       "    </tr>\n",
       "    <tr>\n",
       "      <th>570996</th>\n",
       "      <td>-0.35861</td>\n",
       "      <td>0.251680</td>\n",
       "      <td>-0.251680</td>\n",
       "      <td>0.251680</td>\n",
       "      <td>0.035780</td>\n",
       "      <td>-1.2216</td>\n",
       "      <td>0.105070</td>\n",
       "      <td>-0.72036</td>\n",
       "    </tr>\n",
       "    <tr>\n",
       "      <th>570997</th>\n",
       "      <td>-0.35864</td>\n",
       "      <td>0.251780</td>\n",
       "      <td>-0.251780</td>\n",
       "      <td>0.251780</td>\n",
       "      <td>0.035442</td>\n",
       "      <td>-1.2216</td>\n",
       "      <td>0.105070</td>\n",
       "      <td>-0.72046</td>\n",
       "    </tr>\n",
       "    <tr>\n",
       "      <th>570998</th>\n",
       "      <td>-0.35866</td>\n",
       "      <td>0.251880</td>\n",
       "      <td>-0.251880</td>\n",
       "      <td>0.251880</td>\n",
       "      <td>0.035104</td>\n",
       "      <td>-1.2217</td>\n",
       "      <td>0.105070</td>\n",
       "      <td>-0.72056</td>\n",
       "    </tr>\n",
       "    <tr>\n",
       "      <th>570999</th>\n",
       "      <td>-0.35868</td>\n",
       "      <td>0.251970</td>\n",
       "      <td>-0.251970</td>\n",
       "      <td>0.251970</td>\n",
       "      <td>0.034778</td>\n",
       "      <td>-1.2217</td>\n",
       "      <td>0.105060</td>\n",
       "      <td>-0.72065</td>\n",
       "    </tr>\n",
       "    <tr>\n",
       "      <th>571000</th>\n",
       "      <td>-0.35870</td>\n",
       "      <td>0.252060</td>\n",
       "      <td>-0.252060</td>\n",
       "      <td>0.252060</td>\n",
       "      <td>0.034461</td>\n",
       "      <td>-1.2217</td>\n",
       "      <td>0.105060</td>\n",
       "      <td>-0.72075</td>\n",
       "    </tr>\n",
       "  </tbody>\n",
       "</table>\n",
       "<p>571001 rows × 8 columns</p>\n",
       "</div>"
      ],
      "text/plain": [
       "        angle_1   angle_2   angle_3   angle_4   angle_5  angle_6   angle_7  \\\n",
       "0      -0.56164 -0.049700  0.049700 -0.049700  0.063262  -1.2861  0.016174   \n",
       "1      -0.56164 -0.049682  0.049682 -0.049682  0.063269  -1.2861  0.016169   \n",
       "2      -0.56164 -0.049664  0.049664 -0.049664  0.063277  -1.2861  0.016164   \n",
       "3      -0.56164 -0.049647  0.049647 -0.049647  0.063284  -1.2861  0.016160   \n",
       "4      -0.56164 -0.049630  0.049630 -0.049630  0.063291  -1.2861  0.016156   \n",
       "...         ...       ...       ...       ...       ...      ...       ...   \n",
       "570996 -0.35861  0.251680 -0.251680  0.251680  0.035780  -1.2216  0.105070   \n",
       "570997 -0.35864  0.251780 -0.251780  0.251780  0.035442  -1.2216  0.105070   \n",
       "570998 -0.35866  0.251880 -0.251880  0.251880  0.035104  -1.2217  0.105070   \n",
       "570999 -0.35868  0.251970 -0.251970  0.251970  0.034778  -1.2217  0.105060   \n",
       "571000 -0.35870  0.252060 -0.252060  0.252060  0.034461  -1.2217  0.105060   \n",
       "\n",
       "        angle_8  \n",
       "0      -0.77677  \n",
       "1      -0.77676  \n",
       "2      -0.77674  \n",
       "3      -0.77673  \n",
       "4      -0.77671  \n",
       "...         ...  \n",
       "570996 -0.72036  \n",
       "570997 -0.72046  \n",
       "570998 -0.72056  \n",
       "570999 -0.72065  \n",
       "571000 -0.72075  \n",
       "\n",
       "[571001 rows x 8 columns]"
      ]
     },
     "execution_count": 3,
     "metadata": {},
     "output_type": "execute_result"
    }
   ],
   "source": [
    "df_angles"
   ]
  },
  {
   "cell_type": "code",
   "execution_count": 4,
   "metadata": {},
   "outputs": [
    {
     "data": {
      "text/html": [
       "<div>\n",
       "<style scoped>\n",
       "    .dataframe tbody tr th:only-of-type {\n",
       "        vertical-align: middle;\n",
       "    }\n",
       "\n",
       "    .dataframe tbody tr th {\n",
       "        vertical-align: top;\n",
       "    }\n",
       "\n",
       "    .dataframe thead th {\n",
       "        text-align: right;\n",
       "    }\n",
       "</style>\n",
       "<table border=\"1\" class=\"dataframe\">\n",
       "  <thead>\n",
       "    <tr style=\"text-align: right;\">\n",
       "      <th></th>\n",
       "      <th>angle_1</th>\n",
       "      <th>angle_2</th>\n",
       "      <th>angle_5</th>\n",
       "      <th>angle_6</th>\n",
       "      <th>angle_7</th>\n",
       "      <th>angle_8</th>\n",
       "    </tr>\n",
       "  </thead>\n",
       "  <tbody>\n",
       "    <tr>\n",
       "      <th>0</th>\n",
       "      <td>-0.56164</td>\n",
       "      <td>-0.049700</td>\n",
       "      <td>0.063262</td>\n",
       "      <td>-1.2861</td>\n",
       "      <td>0.016174</td>\n",
       "      <td>-0.77677</td>\n",
       "    </tr>\n",
       "    <tr>\n",
       "      <th>1</th>\n",
       "      <td>-0.56164</td>\n",
       "      <td>-0.049682</td>\n",
       "      <td>0.063269</td>\n",
       "      <td>-1.2861</td>\n",
       "      <td>0.016169</td>\n",
       "      <td>-0.77676</td>\n",
       "    </tr>\n",
       "    <tr>\n",
       "      <th>2</th>\n",
       "      <td>-0.56164</td>\n",
       "      <td>-0.049664</td>\n",
       "      <td>0.063277</td>\n",
       "      <td>-1.2861</td>\n",
       "      <td>0.016164</td>\n",
       "      <td>-0.77674</td>\n",
       "    </tr>\n",
       "    <tr>\n",
       "      <th>3</th>\n",
       "      <td>-0.56164</td>\n",
       "      <td>-0.049647</td>\n",
       "      <td>0.063284</td>\n",
       "      <td>-1.2861</td>\n",
       "      <td>0.016160</td>\n",
       "      <td>-0.77673</td>\n",
       "    </tr>\n",
       "    <tr>\n",
       "      <th>4</th>\n",
       "      <td>-0.56164</td>\n",
       "      <td>-0.049630</td>\n",
       "      <td>0.063291</td>\n",
       "      <td>-1.2861</td>\n",
       "      <td>0.016156</td>\n",
       "      <td>-0.77671</td>\n",
       "    </tr>\n",
       "    <tr>\n",
       "      <th>...</th>\n",
       "      <td>...</td>\n",
       "      <td>...</td>\n",
       "      <td>...</td>\n",
       "      <td>...</td>\n",
       "      <td>...</td>\n",
       "      <td>...</td>\n",
       "    </tr>\n",
       "    <tr>\n",
       "      <th>570996</th>\n",
       "      <td>-0.35861</td>\n",
       "      <td>0.251680</td>\n",
       "      <td>0.035780</td>\n",
       "      <td>-1.2216</td>\n",
       "      <td>0.105070</td>\n",
       "      <td>-0.72036</td>\n",
       "    </tr>\n",
       "    <tr>\n",
       "      <th>570997</th>\n",
       "      <td>-0.35864</td>\n",
       "      <td>0.251780</td>\n",
       "      <td>0.035442</td>\n",
       "      <td>-1.2216</td>\n",
       "      <td>0.105070</td>\n",
       "      <td>-0.72046</td>\n",
       "    </tr>\n",
       "    <tr>\n",
       "      <th>570998</th>\n",
       "      <td>-0.35866</td>\n",
       "      <td>0.251880</td>\n",
       "      <td>0.035104</td>\n",
       "      <td>-1.2217</td>\n",
       "      <td>0.105070</td>\n",
       "      <td>-0.72056</td>\n",
       "    </tr>\n",
       "    <tr>\n",
       "      <th>570999</th>\n",
       "      <td>-0.35868</td>\n",
       "      <td>0.251970</td>\n",
       "      <td>0.034778</td>\n",
       "      <td>-1.2217</td>\n",
       "      <td>0.105060</td>\n",
       "      <td>-0.72065</td>\n",
       "    </tr>\n",
       "    <tr>\n",
       "      <th>571000</th>\n",
       "      <td>-0.35870</td>\n",
       "      <td>0.252060</td>\n",
       "      <td>0.034461</td>\n",
       "      <td>-1.2217</td>\n",
       "      <td>0.105060</td>\n",
       "      <td>-0.72075</td>\n",
       "    </tr>\n",
       "  </tbody>\n",
       "</table>\n",
       "<p>571001 rows × 6 columns</p>\n",
       "</div>"
      ],
      "text/plain": [
       "        angle_1   angle_2   angle_5  angle_6   angle_7  angle_8\n",
       "0      -0.56164 -0.049700  0.063262  -1.2861  0.016174 -0.77677\n",
       "1      -0.56164 -0.049682  0.063269  -1.2861  0.016169 -0.77676\n",
       "2      -0.56164 -0.049664  0.063277  -1.2861  0.016164 -0.77674\n",
       "3      -0.56164 -0.049647  0.063284  -1.2861  0.016160 -0.77673\n",
       "4      -0.56164 -0.049630  0.063291  -1.2861  0.016156 -0.77671\n",
       "...         ...       ...       ...      ...       ...      ...\n",
       "570996 -0.35861  0.251680  0.035780  -1.2216  0.105070 -0.72036\n",
       "570997 -0.35864  0.251780  0.035442  -1.2216  0.105070 -0.72046\n",
       "570998 -0.35866  0.251880  0.035104  -1.2217  0.105070 -0.72056\n",
       "570999 -0.35868  0.251970  0.034778  -1.2217  0.105060 -0.72065\n",
       "571000 -0.35870  0.252060  0.034461  -1.2217  0.105060 -0.72075\n",
       "\n",
       "[571001 rows x 6 columns]"
      ]
     },
     "execution_count": 4,
     "metadata": {},
     "output_type": "execute_result"
    }
   ],
   "source": [
    "df_angles.drop(labels={'angle_3','angle_4'},axis=1, inplace=True)\n",
    "df_angles"
   ]
  },
  {
   "cell_type": "code",
   "execution_count": 5,
   "metadata": {},
   "outputs": [
    {
     "data": {
      "text/html": [
       "<div>\n",
       "<style scoped>\n",
       "    .dataframe tbody tr th:only-of-type {\n",
       "        vertical-align: middle;\n",
       "    }\n",
       "\n",
       "    .dataframe tbody tr th {\n",
       "        vertical-align: top;\n",
       "    }\n",
       "\n",
       "    .dataframe thead th {\n",
       "        text-align: right;\n",
       "    }\n",
       "</style>\n",
       "<table border=\"1\" class=\"dataframe\">\n",
       "  <thead>\n",
       "    <tr style=\"text-align: right;\">\n",
       "      <th></th>\n",
       "      <th>The</th>\n",
       "      <th>FPL</th>\n",
       "      <th>APL</th>\n",
       "      <th>FD2</th>\n",
       "      <th>Brach1</th>\n",
       "      <th>FCR</th>\n",
       "      <th>ECR</th>\n",
       "      <th>PT</th>\n",
       "      <th>FD34</th>\n",
       "      <th>Brach2</th>\n",
       "      <th>FCU</th>\n",
       "      <th>ECU</th>\n",
       "      <th>ED</th>\n",
       "      <th>BBlg</th>\n",
       "      <th>LatDor</th>\n",
       "    </tr>\n",
       "  </thead>\n",
       "  <tbody>\n",
       "    <tr>\n",
       "      <th>0</th>\n",
       "      <td>0.012889</td>\n",
       "      <td>0.059114</td>\n",
       "      <td>0.028965</td>\n",
       "      <td>0.030858</td>\n",
       "      <td>0.045623</td>\n",
       "      <td>0.046895</td>\n",
       "      <td>0.062855</td>\n",
       "      <td>0.084812</td>\n",
       "      <td>0.039372</td>\n",
       "      <td>0.049902</td>\n",
       "      <td>0.10488</td>\n",
       "      <td>0.036791</td>\n",
       "      <td>0.068799</td>\n",
       "      <td>0.056631</td>\n",
       "      <td>0.044400</td>\n",
       "    </tr>\n",
       "    <tr>\n",
       "      <th>1</th>\n",
       "      <td>0.012898</td>\n",
       "      <td>0.059176</td>\n",
       "      <td>0.028972</td>\n",
       "      <td>0.030913</td>\n",
       "      <td>0.045737</td>\n",
       "      <td>0.047017</td>\n",
       "      <td>0.063045</td>\n",
       "      <td>0.084833</td>\n",
       "      <td>0.039389</td>\n",
       "      <td>0.049911</td>\n",
       "      <td>0.10538</td>\n",
       "      <td>0.036809</td>\n",
       "      <td>0.068817</td>\n",
       "      <td>0.056728</td>\n",
       "      <td>0.044569</td>\n",
       "    </tr>\n",
       "    <tr>\n",
       "      <th>2</th>\n",
       "      <td>0.012906</td>\n",
       "      <td>0.059232</td>\n",
       "      <td>0.028981</td>\n",
       "      <td>0.030971</td>\n",
       "      <td>0.045819</td>\n",
       "      <td>0.047141</td>\n",
       "      <td>0.063263</td>\n",
       "      <td>0.084850</td>\n",
       "      <td>0.039406</td>\n",
       "      <td>0.049920</td>\n",
       "      <td>0.10585</td>\n",
       "      <td>0.036829</td>\n",
       "      <td>0.068837</td>\n",
       "      <td>0.056823</td>\n",
       "      <td>0.044725</td>\n",
       "    </tr>\n",
       "    <tr>\n",
       "      <th>3</th>\n",
       "      <td>0.012914</td>\n",
       "      <td>0.059282</td>\n",
       "      <td>0.028992</td>\n",
       "      <td>0.031032</td>\n",
       "      <td>0.045875</td>\n",
       "      <td>0.047263</td>\n",
       "      <td>0.063521</td>\n",
       "      <td>0.084863</td>\n",
       "      <td>0.039425</td>\n",
       "      <td>0.049927</td>\n",
       "      <td>0.10624</td>\n",
       "      <td>0.036859</td>\n",
       "      <td>0.068859</td>\n",
       "      <td>0.056908</td>\n",
       "      <td>0.044840</td>\n",
       "    </tr>\n",
       "    <tr>\n",
       "      <th>4</th>\n",
       "      <td>0.012920</td>\n",
       "      <td>0.059325</td>\n",
       "      <td>0.029006</td>\n",
       "      <td>0.031092</td>\n",
       "      <td>0.045913</td>\n",
       "      <td>0.047382</td>\n",
       "      <td>0.063827</td>\n",
       "      <td>0.084875</td>\n",
       "      <td>0.039446</td>\n",
       "      <td>0.049935</td>\n",
       "      <td>0.10656</td>\n",
       "      <td>0.036898</td>\n",
       "      <td>0.068883</td>\n",
       "      <td>0.056987</td>\n",
       "      <td>0.044935</td>\n",
       "    </tr>\n",
       "    <tr>\n",
       "      <th>...</th>\n",
       "      <td>...</td>\n",
       "      <td>...</td>\n",
       "      <td>...</td>\n",
       "      <td>...</td>\n",
       "      <td>...</td>\n",
       "      <td>...</td>\n",
       "      <td>...</td>\n",
       "      <td>...</td>\n",
       "      <td>...</td>\n",
       "      <td>...</td>\n",
       "      <td>...</td>\n",
       "      <td>...</td>\n",
       "      <td>...</td>\n",
       "      <td>...</td>\n",
       "      <td>...</td>\n",
       "    </tr>\n",
       "    <tr>\n",
       "      <th>570996</th>\n",
       "      <td>0.026169</td>\n",
       "      <td>0.087419</td>\n",
       "      <td>0.078023</td>\n",
       "      <td>0.078149</td>\n",
       "      <td>0.061936</td>\n",
       "      <td>0.062429</td>\n",
       "      <td>0.140350</td>\n",
       "      <td>0.134740</td>\n",
       "      <td>0.483710</td>\n",
       "      <td>0.074602</td>\n",
       "      <td>0.18139</td>\n",
       "      <td>0.076372</td>\n",
       "      <td>0.098561</td>\n",
       "      <td>0.074249</td>\n",
       "      <td>0.204010</td>\n",
       "    </tr>\n",
       "    <tr>\n",
       "      <th>570997</th>\n",
       "      <td>0.026172</td>\n",
       "      <td>0.087426</td>\n",
       "      <td>0.078042</td>\n",
       "      <td>0.078130</td>\n",
       "      <td>0.062046</td>\n",
       "      <td>0.062492</td>\n",
       "      <td>0.140100</td>\n",
       "      <td>0.134650</td>\n",
       "      <td>0.483710</td>\n",
       "      <td>0.074537</td>\n",
       "      <td>0.18117</td>\n",
       "      <td>0.076377</td>\n",
       "      <td>0.098644</td>\n",
       "      <td>0.074394</td>\n",
       "      <td>0.204000</td>\n",
       "    </tr>\n",
       "    <tr>\n",
       "      <th>570998</th>\n",
       "      <td>0.026174</td>\n",
       "      <td>0.087411</td>\n",
       "      <td>0.078059</td>\n",
       "      <td>0.078107</td>\n",
       "      <td>0.062157</td>\n",
       "      <td>0.062542</td>\n",
       "      <td>0.139840</td>\n",
       "      <td>0.134520</td>\n",
       "      <td>0.483710</td>\n",
       "      <td>0.074458</td>\n",
       "      <td>0.18095</td>\n",
       "      <td>0.076398</td>\n",
       "      <td>0.098720</td>\n",
       "      <td>0.074541</td>\n",
       "      <td>0.204000</td>\n",
       "    </tr>\n",
       "    <tr>\n",
       "      <th>570999</th>\n",
       "      <td>0.026174</td>\n",
       "      <td>0.087372</td>\n",
       "      <td>0.078074</td>\n",
       "      <td>0.078078</td>\n",
       "      <td>0.062263</td>\n",
       "      <td>0.062578</td>\n",
       "      <td>0.139600</td>\n",
       "      <td>0.134340</td>\n",
       "      <td>0.483700</td>\n",
       "      <td>0.074369</td>\n",
       "      <td>0.18075</td>\n",
       "      <td>0.076430</td>\n",
       "      <td>0.098789</td>\n",
       "      <td>0.074691</td>\n",
       "      <td>0.204000</td>\n",
       "    </tr>\n",
       "    <tr>\n",
       "      <th>571000</th>\n",
       "      <td>0.026173</td>\n",
       "      <td>0.087304</td>\n",
       "      <td>0.078087</td>\n",
       "      <td>0.078044</td>\n",
       "      <td>0.062357</td>\n",
       "      <td>0.062600</td>\n",
       "      <td>0.139360</td>\n",
       "      <td>0.134110</td>\n",
       "      <td>0.483700</td>\n",
       "      <td>0.074268</td>\n",
       "      <td>0.18057</td>\n",
       "      <td>0.076483</td>\n",
       "      <td>0.098851</td>\n",
       "      <td>0.074830</td>\n",
       "      <td>0.204010</td>\n",
       "    </tr>\n",
       "  </tbody>\n",
       "</table>\n",
       "<p>571001 rows × 15 columns</p>\n",
       "</div>"
      ],
      "text/plain": [
       "             The       FPL       APL       FD2    Brach1       FCR       ECR  \\\n",
       "0       0.012889  0.059114  0.028965  0.030858  0.045623  0.046895  0.062855   \n",
       "1       0.012898  0.059176  0.028972  0.030913  0.045737  0.047017  0.063045   \n",
       "2       0.012906  0.059232  0.028981  0.030971  0.045819  0.047141  0.063263   \n",
       "3       0.012914  0.059282  0.028992  0.031032  0.045875  0.047263  0.063521   \n",
       "4       0.012920  0.059325  0.029006  0.031092  0.045913  0.047382  0.063827   \n",
       "...          ...       ...       ...       ...       ...       ...       ...   \n",
       "570996  0.026169  0.087419  0.078023  0.078149  0.061936  0.062429  0.140350   \n",
       "570997  0.026172  0.087426  0.078042  0.078130  0.062046  0.062492  0.140100   \n",
       "570998  0.026174  0.087411  0.078059  0.078107  0.062157  0.062542  0.139840   \n",
       "570999  0.026174  0.087372  0.078074  0.078078  0.062263  0.062578  0.139600   \n",
       "571000  0.026173  0.087304  0.078087  0.078044  0.062357  0.062600  0.139360   \n",
       "\n",
       "              PT      FD34    Brach2      FCU       ECU        ED      BBlg  \\\n",
       "0       0.084812  0.039372  0.049902  0.10488  0.036791  0.068799  0.056631   \n",
       "1       0.084833  0.039389  0.049911  0.10538  0.036809  0.068817  0.056728   \n",
       "2       0.084850  0.039406  0.049920  0.10585  0.036829  0.068837  0.056823   \n",
       "3       0.084863  0.039425  0.049927  0.10624  0.036859  0.068859  0.056908   \n",
       "4       0.084875  0.039446  0.049935  0.10656  0.036898  0.068883  0.056987   \n",
       "...          ...       ...       ...      ...       ...       ...       ...   \n",
       "570996  0.134740  0.483710  0.074602  0.18139  0.076372  0.098561  0.074249   \n",
       "570997  0.134650  0.483710  0.074537  0.18117  0.076377  0.098644  0.074394   \n",
       "570998  0.134520  0.483710  0.074458  0.18095  0.076398  0.098720  0.074541   \n",
       "570999  0.134340  0.483700  0.074369  0.18075  0.076430  0.098789  0.074691   \n",
       "571000  0.134110  0.483700  0.074268  0.18057  0.076483  0.098851  0.074830   \n",
       "\n",
       "          LatDor  \n",
       "0       0.044400  \n",
       "1       0.044569  \n",
       "2       0.044725  \n",
       "3       0.044840  \n",
       "4       0.044935  \n",
       "...          ...  \n",
       "570996  0.204010  \n",
       "570997  0.204000  \n",
       "570998  0.204000  \n",
       "570999  0.204000  \n",
       "571000  0.204010  \n",
       "\n",
       "[571001 rows x 15 columns]"
      ]
     },
     "execution_count": 5,
     "metadata": {},
     "output_type": "execute_result"
    }
   ],
   "source": [
    "df_emg1"
   ]
  },
  {
   "cell_type": "code",
   "execution_count": 6,
   "metadata": {},
   "outputs": [
    {
     "data": {
      "text/html": [
       "<div>\n",
       "<style scoped>\n",
       "    .dataframe tbody tr th:only-of-type {\n",
       "        vertical-align: middle;\n",
       "    }\n",
       "\n",
       "    .dataframe tbody tr th {\n",
       "        vertical-align: top;\n",
       "    }\n",
       "\n",
       "    .dataframe thead th {\n",
       "        text-align: right;\n",
       "    }\n",
       "</style>\n",
       "<table border=\"1\" class=\"dataframe\">\n",
       "  <thead>\n",
       "    <tr style=\"text-align: right;\">\n",
       "      <th></th>\n",
       "      <th>BBsh</th>\n",
       "      <th>TBlg</th>\n",
       "      <th>TBlat</th>\n",
       "      <th>DELant</th>\n",
       "      <th>DELmed</th>\n",
       "      <th>DELpost</th>\n",
       "      <th>PMcl</th>\n",
       "      <th>PMst</th>\n",
       "      <th>Infra</th>\n",
       "      <th>Supra</th>\n",
       "      <th>TRhigh</th>\n",
       "      <th>TRmed</th>\n",
       "    </tr>\n",
       "  </thead>\n",
       "  <tbody>\n",
       "    <tr>\n",
       "      <th>0</th>\n",
       "      <td>0.020598</td>\n",
       "      <td>0.17192</td>\n",
       "      <td>0.058715</td>\n",
       "      <td>0.059135</td>\n",
       "      <td>0.12588</td>\n",
       "      <td>0.092732</td>\n",
       "      <td>0.056051</td>\n",
       "      <td>0.021088</td>\n",
       "      <td>0.046171</td>\n",
       "      <td>0.13434</td>\n",
       "      <td>0.13013</td>\n",
       "      <td>0.023637</td>\n",
       "    </tr>\n",
       "    <tr>\n",
       "      <th>1</th>\n",
       "      <td>0.020601</td>\n",
       "      <td>0.17212</td>\n",
       "      <td>0.058723</td>\n",
       "      <td>0.059576</td>\n",
       "      <td>0.12733</td>\n",
       "      <td>0.093302</td>\n",
       "      <td>0.056339</td>\n",
       "      <td>0.021116</td>\n",
       "      <td>0.046311</td>\n",
       "      <td>0.13443</td>\n",
       "      <td>0.13041</td>\n",
       "      <td>0.023641</td>\n",
       "    </tr>\n",
       "    <tr>\n",
       "      <th>2</th>\n",
       "      <td>0.020605</td>\n",
       "      <td>0.17231</td>\n",
       "      <td>0.058735</td>\n",
       "      <td>0.060046</td>\n",
       "      <td>0.12878</td>\n",
       "      <td>0.093876</td>\n",
       "      <td>0.056619</td>\n",
       "      <td>0.021140</td>\n",
       "      <td>0.046456</td>\n",
       "      <td>0.13453</td>\n",
       "      <td>0.13070</td>\n",
       "      <td>0.023646</td>\n",
       "    </tr>\n",
       "    <tr>\n",
       "      <th>3</th>\n",
       "      <td>0.020609</td>\n",
       "      <td>0.17249</td>\n",
       "      <td>0.058756</td>\n",
       "      <td>0.060566</td>\n",
       "      <td>0.13023</td>\n",
       "      <td>0.094460</td>\n",
       "      <td>0.056882</td>\n",
       "      <td>0.021157</td>\n",
       "      <td>0.046606</td>\n",
       "      <td>0.13464</td>\n",
       "      <td>0.13101</td>\n",
       "      <td>0.023653</td>\n",
       "    </tr>\n",
       "    <tr>\n",
       "      <th>4</th>\n",
       "      <td>0.020616</td>\n",
       "      <td>0.17264</td>\n",
       "      <td>0.058794</td>\n",
       "      <td>0.061117</td>\n",
       "      <td>0.13159</td>\n",
       "      <td>0.095018</td>\n",
       "      <td>0.057125</td>\n",
       "      <td>0.021169</td>\n",
       "      <td>0.046752</td>\n",
       "      <td>0.13477</td>\n",
       "      <td>0.13136</td>\n",
       "      <td>0.023663</td>\n",
       "    </tr>\n",
       "    <tr>\n",
       "      <th>...</th>\n",
       "      <td>...</td>\n",
       "      <td>...</td>\n",
       "      <td>...</td>\n",
       "      <td>...</td>\n",
       "      <td>...</td>\n",
       "      <td>...</td>\n",
       "      <td>...</td>\n",
       "      <td>...</td>\n",
       "      <td>...</td>\n",
       "      <td>...</td>\n",
       "      <td>...</td>\n",
       "      <td>...</td>\n",
       "    </tr>\n",
       "    <tr>\n",
       "      <th>570996</th>\n",
       "      <td>0.028916</td>\n",
       "      <td>0.21982</td>\n",
       "      <td>0.065579</td>\n",
       "      <td>0.056616</td>\n",
       "      <td>0.13763</td>\n",
       "      <td>0.058093</td>\n",
       "      <td>0.253980</td>\n",
       "      <td>0.265240</td>\n",
       "      <td>0.045003</td>\n",
       "      <td>0.13615</td>\n",
       "      <td>0.15490</td>\n",
       "      <td>0.040596</td>\n",
       "    </tr>\n",
       "    <tr>\n",
       "      <th>570997</th>\n",
       "      <td>0.028944</td>\n",
       "      <td>0.21972</td>\n",
       "      <td>0.065539</td>\n",
       "      <td>0.056769</td>\n",
       "      <td>0.13769</td>\n",
       "      <td>0.058045</td>\n",
       "      <td>0.253980</td>\n",
       "      <td>0.265240</td>\n",
       "      <td>0.044920</td>\n",
       "      <td>0.13615</td>\n",
       "      <td>0.15486</td>\n",
       "      <td>0.040598</td>\n",
       "    </tr>\n",
       "    <tr>\n",
       "      <th>570998</th>\n",
       "      <td>0.028973</td>\n",
       "      <td>0.21955</td>\n",
       "      <td>0.065515</td>\n",
       "      <td>0.056909</td>\n",
       "      <td>0.13771</td>\n",
       "      <td>0.058008</td>\n",
       "      <td>0.253980</td>\n",
       "      <td>0.265240</td>\n",
       "      <td>0.044836</td>\n",
       "      <td>0.13615</td>\n",
       "      <td>0.15481</td>\n",
       "      <td>0.040601</td>\n",
       "    </tr>\n",
       "    <tr>\n",
       "      <th>570999</th>\n",
       "      <td>0.029002</td>\n",
       "      <td>0.21937</td>\n",
       "      <td>0.065496</td>\n",
       "      <td>0.057043</td>\n",
       "      <td>0.13771</td>\n",
       "      <td>0.057975</td>\n",
       "      <td>0.253990</td>\n",
       "      <td>0.265250</td>\n",
       "      <td>0.044753</td>\n",
       "      <td>0.13615</td>\n",
       "      <td>0.15475</td>\n",
       "      <td>0.040604</td>\n",
       "    </tr>\n",
       "    <tr>\n",
       "      <th>571000</th>\n",
       "      <td>0.029034</td>\n",
       "      <td>0.21915</td>\n",
       "      <td>0.065494</td>\n",
       "      <td>0.057158</td>\n",
       "      <td>0.13767</td>\n",
       "      <td>0.057951</td>\n",
       "      <td>0.253990</td>\n",
       "      <td>0.265250</td>\n",
       "      <td>0.044677</td>\n",
       "      <td>0.13615</td>\n",
       "      <td>0.15468</td>\n",
       "      <td>0.040606</td>\n",
       "    </tr>\n",
       "  </tbody>\n",
       "</table>\n",
       "<p>571001 rows × 12 columns</p>\n",
       "</div>"
      ],
      "text/plain": [
       "            BBsh     TBlg     TBlat    DELant   DELmed   DELpost      PMcl  \\\n",
       "0       0.020598  0.17192  0.058715  0.059135  0.12588  0.092732  0.056051   \n",
       "1       0.020601  0.17212  0.058723  0.059576  0.12733  0.093302  0.056339   \n",
       "2       0.020605  0.17231  0.058735  0.060046  0.12878  0.093876  0.056619   \n",
       "3       0.020609  0.17249  0.058756  0.060566  0.13023  0.094460  0.056882   \n",
       "4       0.020616  0.17264  0.058794  0.061117  0.13159  0.095018  0.057125   \n",
       "...          ...      ...       ...       ...      ...       ...       ...   \n",
       "570996  0.028916  0.21982  0.065579  0.056616  0.13763  0.058093  0.253980   \n",
       "570997  0.028944  0.21972  0.065539  0.056769  0.13769  0.058045  0.253980   \n",
       "570998  0.028973  0.21955  0.065515  0.056909  0.13771  0.058008  0.253980   \n",
       "570999  0.029002  0.21937  0.065496  0.057043  0.13771  0.057975  0.253990   \n",
       "571000  0.029034  0.21915  0.065494  0.057158  0.13767  0.057951  0.253990   \n",
       "\n",
       "            PMst     Infra    Supra   TRhigh     TRmed  \n",
       "0       0.021088  0.046171  0.13434  0.13013  0.023637  \n",
       "1       0.021116  0.046311  0.13443  0.13041  0.023641  \n",
       "2       0.021140  0.046456  0.13453  0.13070  0.023646  \n",
       "3       0.021157  0.046606  0.13464  0.13101  0.023653  \n",
       "4       0.021169  0.046752  0.13477  0.13136  0.023663  \n",
       "...          ...       ...      ...      ...       ...  \n",
       "570996  0.265240  0.045003  0.13615  0.15490  0.040596  \n",
       "570997  0.265240  0.044920  0.13615  0.15486  0.040598  \n",
       "570998  0.265240  0.044836  0.13615  0.15481  0.040601  \n",
       "570999  0.265250  0.044753  0.13615  0.15475  0.040604  \n",
       "571000  0.265250  0.044677  0.13615  0.15468  0.040606  \n",
       "\n",
       "[571001 rows x 12 columns]"
      ]
     },
     "execution_count": 6,
     "metadata": {},
     "output_type": "execute_result"
    }
   ],
   "source": [
    "df_emg2"
   ]
  },
  {
   "cell_type": "code",
   "execution_count": 7,
   "metadata": {},
   "outputs": [],
   "source": [
    "# Create Dataframe w/ angles and EMG\n",
    "df_emg = pd.concat([df_emg1,df_emg2], axis=1)"
   ]
  },
  {
   "cell_type": "code",
   "execution_count": 8,
   "metadata": {},
   "outputs": [
    {
     "data": {
      "text/plain": [
       "27"
      ]
     },
     "execution_count": 8,
     "metadata": {},
     "output_type": "execute_result"
    }
   ],
   "source": [
    "df_emg.shape[1]"
   ]
  },
  {
   "cell_type": "code",
   "execution_count": 9,
   "metadata": {},
   "outputs": [
    {
     "ename": "IndentationError",
     "evalue": "unexpected indent (123608338.py, line 3)",
     "output_type": "error",
     "traceback": [
      "\u001b[0;36m  File \u001b[0;32m\"/var/folders/y3/yb5gvmlj1xqgkdhsh7c1567c0000gn/T/ipykernel_43991/123608338.py\"\u001b[0;36m, line \u001b[0;32m3\u001b[0m\n\u001b[0;31m    \"\"\"\u001b[0m\n\u001b[0m    ^\u001b[0m\n\u001b[0;31mIndentationError\u001b[0m\u001b[0;31m:\u001b[0m unexpected indent\n"
     ]
    }
   ],
   "source": [
    "# bof \n",
    "# class LinearRegression(linear_model.LinearRegression):\n",
    "    \"\"\"\n",
    "    LinearRegression class after sklearn's, but calculate t-statistics\n",
    "    and p-values for model coefficients (betas).\n",
    "    Additional attributes available after .fit()\n",
    "    are `t` and `p` which are of the shape (y.shape[1], X.shape[1])\n",
    "    which is (n_features, n_coefs)\n",
    "    This class sets the intercept to 0 by default, since usually we include it\n",
    "    in X.\n",
    "    \"\"\"\n",
    "\n",
    "    def __init__(self, *args, **kwargs):\n",
    "        if not \"fit_intercept\" in kwargs:\n",
    "            kwargs['fit_intercept'] = False\n",
    "        super(LinearRegression, self)\\\n",
    "                .__init__(*args, **kwargs)\n",
    "\n",
    "    def fit(self, X, y, n_jobs=1):\n",
    "        self = super(LinearRegression, self).fit(X, y, n_jobs)\n",
    "\n",
    "        sse = np.sum((self.predict(X) - y) ** 2, axis=0) / float(X.shape[0] - X.shape[1])\n",
    "        se = np.array([\n",
    "            np.sqrt(np.diagonal(sse[i] * np.linalg.inv(np.dot(X.T, X))))\n",
    "                                                    for i in range(sse.shape[0])\n",
    "                    ])\n",
    "\n",
    "        self.t = self.coef_ / se\n",
    "        self.p = 2 * (1 - stats.t.cdf(np.abs(self.t), y.shape[0] - X.shape[1]))\n",
    "        return self"
   ]
  },
  {
   "cell_type": "code",
   "execution_count": 9,
   "metadata": {},
   "outputs": [],
   "source": [
    "#Model param\n",
    "nb_angles = 6\n",
    "nb_samples = len(df_angles)\n",
    "nb_emg = 27\n",
    "n_features=nb_angles\n",
    "n_informative=nb_angles\n",
    "n_targets=nb_emg\n",
    "\n",
    "X=df_angles\n",
    "y=df_emg\n",
    "\n",
    "# define model\n",
    "model = LinearRegression()\n",
    "# fit model\n",
    "reg = model.fit(X,y)\n",
    "beta_hat = [reg.intercept_] + reg.coef_.tolist()"
   ]
  },
  {
   "cell_type": "markdown",
   "metadata": {},
   "source": [
    "### Angle 6: Elbow flexion"
   ]
  },
  {
   "cell_type": "code",
   "execution_count": 10,
   "metadata": {},
   "outputs": [
    {
     "name": "stdout",
     "output_type": "stream",
     "text": [
      "[[ 0.10748505  0.25285216  0.24223455  0.08804813  0.11124515  0.16151027\n",
      "   0.63545496  0.43875908  0.15645637  0.41158389  0.2781892   0.41655331\n",
      "   0.15460229  0.32785088 -0.00871399  0.78963101  0.20480689  0.07891297\n",
      "   0.0557826   0.0916421   0.04524103  0.23183194  0.15423784  0.31220394\n",
      "   0.33449782  0.27834363  0.21034185]]\n",
      "[ 0.00145902  0.0612609   0.02619695  0.00886593 -0.08158734  0.02978612\n",
      "  0.13871453  0.07192052  0.01270908  0.11965519  0.02717714  0.04459448\n",
      " -0.00801537  0.1122106  -0.03689731  0.15789746 -0.07343131 -0.0322042\n",
      " -0.02302952 -0.065509   -0.02947211 -0.00632644  0.00156509  0.01150456\n",
      " -0.00968373 -0.02850153  0.04379428]\n"
     ]
    }
   ],
   "source": [
    "# ANGLE 6 make a prediction based on flexion coude\n",
    "row = [0, 0, 0, 1, 0, 0]\n",
    "yhat = model.predict([row])\n",
    "# summarize prediction\n",
    "print(yhat)\n",
    "print(reg.coef_[:,3])"
   ]
  },
  {
   "cell_type": "code",
   "execution_count": 11,
   "metadata": {},
   "outputs": [],
   "source": [
    "#print('pvalues', model.p[:,3])"
   ]
  },
  {
   "cell_type": "code",
   "execution_count": 12,
   "metadata": {},
   "outputs": [
    {
     "name": "stdout",
     "output_type": "stream",
     "text": [
      "['The', 'FPL', 'APL', 'FD2', 'Brach1', 'FCR', 'ECR', 'PT', 'FD34', 'Brach2', 'FCU', 'ECU', 'ED', 'BBlg', 'LatDor'] ['BBsh', 'TBlg', 'TBlat', 'DELant', 'DELmed', 'DELpost', 'PMcl', 'PMst', 'Infra', 'Supra', 'TRhigh', 'TRmed']\n"
     ]
    }
   ],
   "source": [
    "print(muscles_list_1,muscles_list_2)"
   ]
  },
  {
   "cell_type": "markdown",
   "metadata": {},
   "source": [
    "#### Based on reg coeff & pvalues"
   ]
  },
  {
   "cell_type": "markdown",
   "metadata": {},
   "source": [
    "For Angle 6 = flexion coude, \n",
    "\n",
    "Muscles not necessary: The,FD2,LatDor,PMcl,PMst,Supra\n",
    "\n",
    "Too large pvalues >0.05 : FPL\n",
    "\n",
    "--> Retrain model without them\n",
    "\n"
   ]
  },
  {
   "cell_type": "code",
   "execution_count": 13,
   "metadata": {},
   "outputs": [
    {
     "name": "stdout",
     "output_type": "stream",
     "text": [
      "[[0.2357702  0.07509013 0.14123297 0.48331265 0.36524424 0.14442697\n",
      "  0.30744656 0.23845558 0.34897552 0.10984105 0.42975083 0.63973858\n",
      "  0.2436031  0.15187571 0.24854009 0.16792947 0.12042709 0.23557212\n",
      "  0.30651786 0.2961041 ]]\n",
      "reg coefficients [[ 0.05062237 -0.0861577   0.02577716  0.07360297  0.06045582  0.01721674\n",
      "   0.07040868  0.00442528  0.04561757 -0.02323012  0.10254344  0.18692366\n",
      "  -0.05106991 -0.01761108 -0.02949686 -0.01547301 -0.02609892 -0.00855924\n",
      "  -0.03225597  0.06454937]]\n"
     ]
    }
   ],
   "source": [
    "#Model param\n",
    "nb_angles = 1\n",
    "nb_samples = len(df_angles)\n",
    "nb_emg = 20\n",
    "n_features=nb_angles\n",
    "n_informative=nb_angles\n",
    "n_targets=nb_emg\n",
    "\n",
    "X=df_angles\n",
    "y=df_emg.drop(labels={'FPL','The','FD2','LatDor','PMcl','PMst','Supra'},axis=1)\n",
    "\n",
    "# define model\n",
    "model_angle6 = LinearRegression()\n",
    "# fit model\n",
    "reg_angle6 = model_angle6.fit(X.angle_6.values.reshape(-1, 1),y)\n",
    "beta_hat6 = [reg_angle6.intercept_] + reg_angle6.coef_.tolist()\n",
    "\n",
    "# ANGLE 6 make a prediction based on flexion coude\n",
    "row = np.array([1])\n",
    "yhat_angle6 = model_angle6.predict(row.reshape(1, -1))\n",
    "# summarize prediction\n",
    "print(yhat_angle6)\n",
    "print(\"reg coefficients\", reg_angle6.coef_.transpose())\n",
    "#print('pvalues', model_angle6.p.transpose())"
   ]
  },
  {
   "cell_type": "markdown",
   "metadata": {},
   "source": [
    " List of muscles edited : ['APL', 'Brach1', 'FCR', 'ECR', 'PT', 'FD34', 'Brach2', 'FCU', 'ECU', 'ED', 'BBlg'] ['BBsh', 'TBlg', 'TBlat', 'DELant', 'DELmed', 'DELpost', 'Infra', 'TRhigh', 'TRmed']\n",
    " \n",
    " Unuseful muscles: FCU, Infra, FD34\n",
    " --> Retrain"
   ]
  },
  {
   "cell_type": "code",
   "execution_count": 14,
   "metadata": {},
   "outputs": [
    {
     "name": "stdout",
     "output_type": "stream",
     "text": [
      "[[0.2357702  0.14123297 0.48331265 0.36524424 0.30744656 0.34897552\n",
      "  0.10984105 0.42975083 0.63973858 0.2436031  0.15187571 0.24854009\n",
      "  0.16792947 0.12042709 0.30651786 0.2961041 ]]\n",
      "[[ 0.05062237  0.02577716  0.07360297  0.06045582  0.07040868  0.04561757\n",
      "  -0.02323012  0.10254344  0.18692366 -0.05106991 -0.01761108 -0.02949686\n",
      "  -0.01547301 -0.02609892 -0.03225597  0.06454937]]\n"
     ]
    }
   ],
   "source": [
    "#Model param\n",
    "nb_angles = 1\n",
    "nb_samples = len(df_angles)\n",
    "nb_emg = 16\n",
    "n_features=nb_angles\n",
    "n_informative=nb_angles\n",
    "n_targets=nb_emg\n",
    "\n",
    "X=df_angles\n",
    "y=df_emg.drop(labels={'Brach1','FPL','The','FD2','LatDor','PMcl','PMst','Supra','FCU','Infra','FD34'},axis=1)\n",
    "\n",
    "# define model\n",
    "model_angle6 = LinearRegression()\n",
    "# fit model\n",
    "reg_angle6 = model_angle6.fit(X.angle_6.values.reshape(-1, 1),y)\n",
    "beta_hat6 = [reg_angle6.intercept_] + reg_angle6.coef_.tolist()\n",
    "\n",
    "# ANGLE 6 make a prediction based on flexion coude\n",
    "row = np.array([1])\n",
    "yhat_angle6 = model_angle6.predict(row.reshape(1, -1))\n",
    "# summarize prediction\n",
    "print(yhat_angle6)\n",
    "print(reg_angle6.coef_.transpose())\n",
    "#print('pvalues', model_angle6.p.transpose())"
   ]
  },
  {
   "cell_type": "code",
   "execution_count": 15,
   "metadata": {},
   "outputs": [
    {
     "name": "stdout",
     "output_type": "stream",
     "text": [
      "[-0.05106991 -0.03225597 -0.02949686 -0.02609892 -0.02323012 -0.01761108\n",
      " -0.01547301  0.02577716  0.04561757  0.05062237  0.06045582  0.06454937\n",
      "  0.07040868  0.07360297  0.10254344  0.18692366]\n",
      "[ 9 14 11 13  6 10 12  1  5  0  3 15  4  2  7  8]\n"
     ]
    }
   ],
   "source": [
    "print(np.sort(reg_angle6.coef_[:,0],axis=0))\n",
    "print(np.argsort(reg_angle6.coef_[:,0],axis=0))"
   ]
  },
  {
   "cell_type": "code",
   "execution_count": 16,
   "metadata": {},
   "outputs": [
    {
     "data": {
      "text/plain": [
       "array([ 0.05062237,  0.02577716,  0.07360297,  0.06045582,  0.07040868,\n",
       "        0.04561757, -0.02323012,  0.10254344,  0.18692366, -0.05106991,\n",
       "       -0.01761108, -0.02949686, -0.01547301, -0.02609892, -0.03225597,\n",
       "        0.06454937])"
      ]
     },
     "execution_count": 16,
     "metadata": {},
     "output_type": "execute_result"
    }
   ],
   "source": [
    "reg_angle6.coef_[:,0]"
   ]
  },
  {
   "cell_type": "markdown",
   "metadata": {},
   "source": [
    " List of muscles edited :['APL', 'FCR', 'ECR', 'PT', 'Brach2', 'ECU', 'ED', 'BBlg'] 8 ['BBsh', 'TBlg', 'TBlat', 'DELant', 'DELmed' 'DELpost', 'TRhigh', 'TRmed']\n",
    " --> muscles with the largest reg coefficients in order : \n",
    " \n",
    " positive: BBsh,BBlg, ECR, Brach2 --> seems coherent :) (then PT and TRmed)\n",
    "\n",
    " negative: TBlg --> seems coherent :) (then TRhigh,DELant)"
   ]
  },
  {
   "cell_type": "markdown",
   "metadata": {},
   "source": [
    "#### Based on predictions"
   ]
  },
  {
   "cell_type": "markdown",
   "metadata": {},
   "source": [
    "For Angle 6 = flexion coude, \n",
    "Muscles not necessary: FD2,LatDor,TBlat,DELant,DELmed,DELpost\n",
    "--> Retrain model without them"
   ]
  },
  {
   "cell_type": "code",
   "execution_count": 18,
   "metadata": {},
   "outputs": [
    {
     "name": "stdout",
     "output_type": "stream",
     "text": [
      "[[-0.05870011 -0.16868019 -0.14325206 -0.25500564 -0.09512044 -0.35541759\n",
      "  -0.25869822 -0.1159893  -0.17780153 -0.2406356  -0.27203858 -0.16257335\n",
      "  -0.24008624 -0.28723384 -0.35963178 -0.24969099 -0.13737702 -0.26419727\n",
      "  -0.35285031 -0.38699725 -0.17791925]]\n"
     ]
    }
   ],
   "source": [
    "#Model param\n",
    "nb_angles = 1\n",
    "nb_samples = len(df_angles)\n",
    "nb_emg = 21\n",
    "n_features=nb_angles\n",
    "n_informative=nb_angles\n",
    "n_targets=nb_emg\n",
    "\n",
    "X=df_angles\n",
    "y=df_emg.drop(labels={'FD2','LatDor','TBlat','DELant','DELmed','DELpost'},axis=1)\n",
    "\n",
    "# define model\n",
    "model_angle6 = LinearRegression()\n",
    "# fit model\n",
    "reg_angle6 = model_angle6.fit(X.angle_6.values.reshape(-1, 1),y)\n",
    "beta_hat6 = [reg_angle6.intercept_] + reg_angle6.coef_.tolist()\n",
    "\n",
    "# ANGLE 6 make a prediction based on flexion coude\n",
    "row = np.array([1])\n",
    "yhat_angle6 = model_angle6.predict(row.reshape(1, -1))\n",
    "# summarize prediction\n",
    "print(yhat_angle6)"
   ]
  },
  {
   "cell_type": "markdown",
   "metadata": {},
   "source": [
    " List of muscles edited :['The', 'FPL', 'APL', 'Brach1', 'FCR', 'ECR', 'PT', 'FD34', 'Brach2', 'FCU', 'ECU', 'ED', 'BBlg'] 13['BBsh', 'TBlg', 'PMcl', 'PMst', 'Infra', 'Supra', 'TRhigh', 'TRmed']\n",
    " \n",
    " Unuseful muscles: The, Brach1\n",
    " --> Retrain"
   ]
  },
  {
   "cell_type": "code",
   "execution_count": 53,
   "metadata": {},
   "outputs": [
    {
     "name": "stdout",
     "output_type": "stream",
     "text": [
      "[[0.24272344 0.2357702  0.14123297 0.48331265 0.36524424 0.14442697\n",
      "  0.30744656 0.23845558 0.34897552 0.10984105 0.42975083 0.63973858\n",
      "  0.2436031  0.15908284 0.14036906 0.23557212 0.3654685  0.30651786\n",
      "  0.2961041 ]]\n"
     ]
    }
   ],
   "source": [
    "#Model param\n",
    "nb_angles = 1\n",
    "nb_samples = len(df_angles)\n",
    "nb_emg = 19\n",
    "n_features=nb_angles\n",
    "n_informative=nb_angles\n",
    "n_targets=nb_emg\n",
    "\n",
    "X=df_angles\n",
    "y=df_emg.drop(labels={'FD2','LatDor','TBlat','DELant','DELmed','DELpost','The','Brach1'},axis=1)\n",
    "\n",
    "# define model\n",
    "model_angle6 = LinearRegression()\n",
    "# fit model\n",
    "reg_angle6 = model_angle6.fit(X.angle_6.values.reshape(-1, 1),y)\n",
    "beta_hat6 = [reg_angle6.intercept_] + reg_angle6.coef_.tolist()\n",
    "\n",
    "# ANGLE 6 make a prediction based on flexion coude\n",
    "row = np.array([1])\n",
    "yhat_angle6 = model_angle6.predict(row.reshape(1, -1))\n",
    "# summarize prediction\n",
    "print(yhat_angle6)"
   ]
  },
  {
   "cell_type": "markdown",
   "metadata": {},
   "source": [
    " List of muscles edited :['FPL', 'APL', 'FCR', 'ECR', 'PT', 'FD34', 'Brach2', 'FCU', 'ECU', 'ED', 'BBlg'] 11 ['BBsh', 'TBlg', 'PMcl', 'PMst', 'Infra', 'Supra', 'TRhigh', 'TRmed']\n",
    "\n",
    " --> muscles with the more activity: ECR,BBlg,BBsh --> seems coherent :)"
   ]
  },
  {
   "cell_type": "markdown",
   "metadata": {},
   "source": [
    "### Angle 1: Abduction adduction shoulder"
   ]
  },
  {
   "cell_type": "markdown",
   "metadata": {},
   "source": [
    "#### Based on reg coeff & pvalues"
   ]
  },
  {
   "cell_type": "code",
   "execution_count": 24,
   "metadata": {},
   "outputs": [
    {
     "name": "stdout",
     "output_type": "stream",
     "text": [
      "[ 0.07018527  0.17053101  0.17812785  0.03825013  0.17773716  0.10436738\n",
      "  0.45345058  0.32317327  0.10136683  0.27783102  0.15425855  0.2397143\n",
      "  0.10934166  0.13818598  0.08581642  0.82759671  0.21256011  0.04285093\n",
      "  0.16979848  0.10068278 -0.00398453  0.27094613  0.14417343  0.30466602\n",
      "  0.35844396  0.36960133  0.11862308]\n",
      "[-0.03584076 -0.02106025 -0.03790976 -0.04093207 -0.01509533 -0.02735677\n",
      " -0.04328986 -0.04366528 -0.04238046 -0.01409768 -0.0967535  -0.13224453\n",
      " -0.05327601 -0.07745431  0.0576331   0.19586317 -0.0656781  -0.06826624\n",
      "  0.09098636 -0.05646832 -0.07869767  0.03278775 -0.00849932  0.00396664\n",
      "  0.01426241  0.06275617 -0.04792449]\n"
     ]
    }
   ],
   "source": [
    "# make a prediction based on \n",
    "row = [1, 0, 0, 0, 0, 0]\n",
    "yhat = model.predict([row])\n",
    "# summarize prediction\n",
    "print(yhat[0])\n",
    "print(reg.coef_[:,0])"
   ]
  },
  {
   "cell_type": "code",
   "execution_count": 25,
   "metadata": {},
   "outputs": [
    {
     "name": "stdout",
     "output_type": "stream",
     "text": [
      "['The', 'FPL', 'APL', 'FD2', 'Brach1', 'FCR', 'ECR', 'PT', 'FD34', 'Brach2', 'FCU', 'ECU', 'ED', 'BBlg', 'LatDor'] ['BBsh', 'TBlg', 'TBlat', 'DELant', 'DELmed', 'DELpost', 'PMcl', 'PMst', 'Infra', 'Supra', 'TRhigh', 'TRmed']\n"
     ]
    }
   ],
   "source": [
    "print(muscles_list_1,muscles_list_2)"
   ]
  },
  {
   "cell_type": "code",
   "execution_count": 26,
   "metadata": {},
   "outputs": [
    {
     "name": "stdout",
     "output_type": "stream",
     "text": [
      "[0.00396664 0.00849932 0.01409768 0.01426241 0.01509533 0.02106025\n",
      " 0.02735677 0.03278775 0.03584076 0.03790976 0.04093207 0.04238046\n",
      " 0.04328986 0.04366528 0.04792449 0.05327601 0.05646832 0.0576331\n",
      " 0.06275617 0.0656781  0.06826624 0.07745431 0.07869767 0.09098636\n",
      " 0.0967535  0.13224453 0.19586317]\n",
      "[23 22  9 24  4  1  5 21  0  2  3  8  6  7 26 12 19 14 25 16 17 13 20 18\n",
      " 10 11 15]\n"
     ]
    }
   ],
   "source": [
    "print(np.sort(np.abs(reg.coef_[:,0]),axis=0))\n",
    "print(np.argsort(np.abs(reg.coef_[:,0]),axis=0))"
   ]
  },
  {
   "cell_type": "markdown",
   "metadata": {},
   "source": [
    "For Angle 1 = Shoulder Abduction/Adduction, \n",
    "\n",
    "Muscles not necessary: Infra, PMst\n",
    "--> Retrain model without them"
   ]
  },
  {
   "cell_type": "code",
   "execution_count": 27,
   "metadata": {},
   "outputs": [
    {
     "name": "stdout",
     "output_type": "stream",
     "text": [
      "[[ 0.03338721  0.11219673  0.11251687  0.06950988  0.06886206  0.08145327\n",
      "   0.23198386  0.23563717  0.17366442  0.15686576  0.05978133  0.0525317\n",
      "   0.09353203  0.04145154  0.54691322  0.22012056 -0.0029636   0.03333402\n",
      "   0.17354739  0.03622476  0.18244964  0.30736198  0.31679322  0.02593413]]\n"
     ]
    }
   ],
   "source": [
    "#Model param\n",
    "nb_angles = 1\n",
    "nb_samples = len(df_angles)\n",
    "nb_emg = 24\n",
    "n_features=nb_angles\n",
    "n_informative=nb_angles\n",
    "n_targets=nb_emg\n",
    "\n",
    "X=df_angles\n",
    "#bad EMG data\n",
    "y=df_emg.drop(labels={'FD34','PMst'},axis=1)\n",
    "# unuseful muscles \n",
    "y=y.drop(labels={'Infra'},axis=1)\n",
    "\n",
    "# define model\n",
    "model_angle1 = LinearRegression()\n",
    "# fit model\n",
    "reg_angle1 = model_angle1.fit(X.angle_1.values.reshape(-1, 1),y)\n",
    "beta_hat1 = [reg_angle1.intercept_] + reg_angle1.coef_.tolist()\n",
    "\n",
    "# ANGLE 6 make a prediction based on flexion coude\n",
    "row = np.array([1])\n",
    "yhat_angle1 = model_angle1.predict(row.reshape(1, -1))\n",
    "# summarize prediction\n",
    "print(yhat_angle1)"
   ]
  },
  {
   "cell_type": "code",
   "execution_count": 28,
   "metadata": {},
   "outputs": [
    {
     "name": "stdout",
     "output_type": "stream",
     "text": [
      "[0.00258075 0.00753188 0.01120285 0.01347921 0.01393644 0.01836229\n",
      " 0.01907787 0.02064827 0.02992855 0.03130574 0.03274522 0.04479224\n",
      " 0.06101732 0.07068272 0.07162744 0.08063725 0.08997864 0.09233231\n",
      " 0.10047739 0.11221556 0.11419117 0.12517805 0.15314057 0.16434337]\n",
      "[ 8  5  7  0 18  2 21  3 22 20  1  9 11  6 15 19 12 23  4 13 16 10 14 17]\n"
     ]
    }
   ],
   "source": [
    "print(np.sort(np.abs(reg_angle1.coef_[:,0]),axis=0))\n",
    "print(np.argsort(np.abs(reg_angle1.coef_[:,0]),axis=0))"
   ]
  },
  {
   "cell_type": "markdown",
   "metadata": {},
   "source": [
    " List of muscles edited :['The', 'FPL', 'APL', 'FD2', 'Brach1', 'FCR', 'ECR', 'PT', 'Brach2', 'FCU', 'ECU', 'ED', 'BBlg', 'LatDor'] ['BBsh', 'TBlg', 'TBlat', 'DELant', 'DELmed', 'DELpost', 'PMcl', 'Supra', 'TRhigh', 'TRmed']\n",
    " \n",
    " Unuseful muscles: Brach2, FCR, PT, The\n",
    "\n",
    " --> Retrain\n",
    "\n",
    " Most useful: DELmed, TBlg, ECU, DELant\n"
   ]
  },
  {
   "cell_type": "code",
   "execution_count": 29,
   "metadata": {},
   "outputs": [
    {
     "name": "stdout",
     "output_type": "stream",
     "text": [
      "[[ 0.11219673  0.11251687  0.06950988  0.06886206  0.23198386  0.15686576\n",
      "   0.05978133  0.0525317   0.09353203  0.04145154  0.54691322  0.22012056\n",
      "  -0.0029636   0.03333402  0.17354739  0.03622476  0.18244964  0.30736198\n",
      "   0.31679322  0.02593413]]\n"
     ]
    }
   ],
   "source": [
    "#Model param\n",
    "nb_angles = 1\n",
    "nb_samples = len(df_angles)\n",
    "nb_emg = 24\n",
    "n_features=nb_angles\n",
    "n_informative=nb_angles\n",
    "n_targets=nb_emg\n",
    "\n",
    "X=df_angles\n",
    "# unuseful muscles \n",
    "y=y.drop(labels={'Brach2', 'FCR', 'PT', 'The'},axis=1)\n",
    "\n",
    "# define model\n",
    "model_angle1 = LinearRegression()\n",
    "# fit model\n",
    "reg_angle1 = model_angle1.fit(X.angle_1.values.reshape(-1, 1),y)\n",
    "beta_hat1 = [reg_angle1.intercept_] + reg_angle1.coef_.tolist()\n",
    "\n",
    "# ANGLE 6 make a prediction based on flexion coude\n",
    "row = np.array([1])\n",
    "yhat_angle1 = model_angle1.predict(row.reshape(1, -1))\n",
    "# summarize prediction\n",
    "print(yhat_angle1)\n"
   ]
  },
  {
   "cell_type": "code",
   "execution_count": 30,
   "metadata": {},
   "outputs": [
    {
     "name": "stdout",
     "output_type": "stream",
     "text": [
      "[-0.16434337 -0.12517805 -0.11419117 -0.11221556 -0.10047739 -0.09233231\n",
      " -0.08997864 -0.08063725 -0.07162744 -0.07068272 -0.06101732 -0.04479224\n",
      " -0.03274522 -0.03130574 -0.02992855 -0.02064827 -0.01907787 -0.01836229\n",
      " -0.01393644  0.15314057]\n",
      "[13  6 12  9  3 19  8 15 11  4  7  5  0 16 18  2 17  1 14 10]\n"
     ]
    }
   ],
   "source": [
    "print(np.sort(reg_angle1.coef_[:,0],axis=0))\n",
    "print(np.argsort(reg_angle1.coef_[:,0],axis=0))"
   ]
  },
  {
   "cell_type": "markdown",
   "metadata": {},
   "source": [
    "['FPL', 'APL', 'FD2', 'Brach1', 'ECR', 'FCU', 'ECU', 'ED', 'BBlg', 'LatDor'] ['BBsh', 'TBlg', 'TBlat', 'DELant', 'DELmed', 'DELpost', 'PMcl', 'Supra', 'TRhigh', 'TRmed']\n",
    "\n",
    "Most useful positive: BBsh\n",
    "Most useful negative: DELant, ECU, TBlat, LatDor"
   ]
  },
  {
   "cell_type": "code",
   "execution_count": 31,
   "metadata": {},
   "outputs": [
    {
     "name": "stdout",
     "output_type": "stream",
     "text": [
      "-0.16605\n",
      "-1.4617\n"
     ]
    }
   ],
   "source": [
    "print(df_angles.angle_1.max())\n",
    "print(df_angles.angle_1.min())"
   ]
  },
  {
   "cell_type": "markdown",
   "metadata": {},
   "source": [
    "### Angle 2: Shoulder rotation"
   ]
  },
  {
   "cell_type": "markdown",
   "metadata": {},
   "source": [
    "#### Based on reg coeff & pvalues"
   ]
  },
  {
   "cell_type": "code",
   "execution_count": 32,
   "metadata": {},
   "outputs": [
    {
     "name": "stdout",
     "output_type": "stream",
     "text": [
      "[0.09839208 0.16696839 0.26734773 0.07471774 0.2162607  0.12730658\n",
      " 0.40832653 0.34749066 0.15022822 0.19245877 0.23057333 0.42090348\n",
      " 0.16079455 0.22229814 0.12894761 0.63044314 0.33233963 0.18015426\n",
      " 0.13238246 0.2421268  0.09160807 0.19287126 0.16089634 0.28683474\n",
      " 0.39065257 0.31177976 0.24116409]\n",
      "[-0.00763395 -0.02462287  0.05131013 -0.00446446  0.02342821 -0.00441757\n",
      " -0.08841391 -0.0193479   0.00648093 -0.09946993 -0.02043873  0.04894465\n",
      " -0.00182312  0.00665785  0.10076429 -0.00129041  0.05410143  0.0690371\n",
      "  0.05357034  0.0849757   0.01689494 -0.04528712  0.0082236  -0.01386464\n",
      "  0.04647101  0.0049346   0.07461652]\n"
     ]
    }
   ],
   "source": [
    "# make a prediction based on \n",
    "row = [0, 1, 0, 0, 0, 0]\n",
    "yhat = model.predict([row])\n",
    "# summarize prediction\n",
    "print(yhat[0])\n",
    "print(reg.coef_[:,1])"
   ]
  },
  {
   "cell_type": "code",
   "execution_count": 33,
   "metadata": {},
   "outputs": [
    {
     "name": "stdout",
     "output_type": "stream",
     "text": [
      "['The', 'FPL', 'APL', 'FD2', 'Brach1', 'FCR', 'ECR', 'PT', 'FD34', 'Brach2', 'FCU', 'ECU', 'ED', 'BBlg', 'LatDor'] ['BBsh', 'TBlg', 'TBlat', 'DELant', 'DELmed', 'DELpost', 'PMcl', 'PMst', 'Infra', 'Supra', 'TRhigh', 'TRmed']\n"
     ]
    }
   ],
   "source": [
    "print(muscles_list_1,muscles_list_2)"
   ]
  },
  {
   "cell_type": "code",
   "execution_count": 34,
   "metadata": {},
   "outputs": [
    {
     "name": "stdout",
     "output_type": "stream",
     "text": [
      "[0.00129041 0.00182312 0.00441757 0.00446446 0.0049346  0.00648093\n",
      " 0.00665785 0.00763395 0.0082236  0.01386464 0.01689494 0.0193479\n",
      " 0.02043873 0.02342821 0.02462287 0.04528712 0.04647101 0.04894465\n",
      " 0.05131013 0.05357034 0.05410143 0.0690371  0.07461652 0.0849757\n",
      " 0.08841391 0.09946993 0.10076429]\n",
      "[15 12  5  3 25  8 13  0 22 23 20  7 10  4  1 21 24 11  2 18 16 17 26 19\n",
      "  6  9 14]\n"
     ]
    }
   ],
   "source": [
    "print(np.sort(np.abs(reg.coef_[:,1]),axis=0))\n",
    "print(np.argsort(np.abs(reg.coef_[:,1]),axis=0))"
   ]
  },
  {
   "cell_type": "markdown",
   "metadata": {},
   "source": [
    "For Angle 2 = Shoulder Rotation, \n",
    "\n",
    "Muscles not necessary: BBsh, ED, FCR, FD2, TRhigh, FD34, BBlg, The\n",
    "--> Retrain model without them"
   ]
  },
  {
   "cell_type": "code",
   "execution_count": 35,
   "metadata": {},
   "outputs": [
    {
     "name": "stdout",
     "output_type": "stream",
     "text": [
      "[[0.15966561 0.20206014 0.15119652 0.29824191 0.28061832 0.15945735\n",
      "  0.21897766 0.28428733 0.20276809 0.32959212 0.17201443 0.19664474\n",
      "  0.25727735 0.15194531 0.15212187 0.19047266 0.36320808 0.2174345 ]]\n"
     ]
    }
   ],
   "source": [
    "#Model param\n",
    "nb_angles = 1\n",
    "nb_samples = len(df_angles)\n",
    "nb_emg = 18\n",
    "n_features=nb_angles\n",
    "n_informative=nb_angles\n",
    "n_targets=nb_emg\n",
    "\n",
    "X=df_angles\n",
    "# bad EMG data\n",
    "y=df_emg.drop(labels={'FD34','PMst'},axis=1)\n",
    "# unuseful muscles \n",
    "y=y.drop(labels={'BBsh','ED','FCR','FD2','TRhigh','BBlg','The'},axis=1)\n",
    "\n",
    "# define model\n",
    "model_angle2 = LinearRegression()\n",
    "# fit model\n",
    "reg_angle2 = model_angle2.fit(X.angle_2.values.reshape(-1, 1),y)\n",
    "beta_hat2 = [reg_angle2.intercept_] + reg_angle2.coef_.tolist()\n",
    "\n",
    "# ANGLE 2 make a prediction based on flexion coude\n",
    "row = np.array([1])\n",
    "yhat_angle2 = model_angle2.predict(row.reshape(1, -1))\n",
    "# summarize prediction\n",
    "print(yhat_angle2)"
   ]
  },
  {
   "cell_type": "code",
   "execution_count": 36,
   "metadata": {},
   "outputs": [
    {
     "name": "stdout",
     "output_type": "stream",
     "text": [
      "0.8913\n",
      "-0.64971\n"
     ]
    }
   ],
   "source": [
    "print(df_angles.angle_2.max())\n",
    "print(df_angles.angle_2.min())"
   ]
  },
  {
   "cell_type": "code",
   "execution_count": 41,
   "metadata": {},
   "outputs": [
    {
     "name": "stdout",
     "output_type": "stream",
     "text": [
      "[-0.09687595 -0.07520749 -0.07451313 -0.05552223 -0.04529766 -0.02070144\n",
      " -0.01682486 -0.01505868 -0.0111917  -0.01034332 -0.00728012 -0.00567976\n",
      "  0.01756243  0.02241341  0.02428215  0.03658987  0.05423171  0.05554925]\n",
      "[11  2 14 15  3  8  5 13 10  6  9  0  7 16  4 17  1 12]\n"
     ]
    }
   ],
   "source": [
    "print(np.sort(reg_angle2.coef_[:,0],axis=0))\n",
    "print(np.argsort(reg_angle2.coef_[:,0],axis=0))"
   ]
  },
  {
   "cell_type": "markdown",
   "metadata": {},
   "source": [
    "['FPL', 'APL', 'Brach1', 'ECR', 'PT', 'Brach2', 'FCU', 'ECU', 'LatDor'] ['TBlg', 'TBlat', 'DELant', 'DELmed', 'DELpost', 'PMcl', 'Infra', 'Supra', 'TRmed']"
   ]
  },
  {
   "cell_type": "markdown",
   "metadata": {},
   "source": [
    "Muscles mostly active:\n",
    "\n",
    "Positive: DELmed, APL, TRmed, PT\n",
    "\n",
    "Negative: DELant, Brach1, PMcl\n",
    "\n",
    "Unuseful muscles:\n",
    "0,9\n",
    "FPL, TBlg --> retrain without them"
   ]
  },
  {
   "cell_type": "code",
   "execution_count": 42,
   "metadata": {},
   "outputs": [
    {
     "name": "stdout",
     "output_type": "stream",
     "text": [
      "[[0.20206014 0.15119652 0.29824191 0.28061832 0.15945735 0.21897766\n",
      "  0.28428733 0.20276809 0.17201443 0.19664474 0.25727735 0.15194531\n",
      "  0.15212187 0.19047266 0.36320808 0.2174345 ]]\n"
     ]
    }
   ],
   "source": [
    "#Model param\n",
    "nb_angles = 1\n",
    "nb_samples = len(df_angles)\n",
    "nb_emg = 16\n",
    "n_features=nb_angles\n",
    "n_informative=nb_angles\n",
    "n_targets=nb_emg\n",
    "\n",
    "X=df_angles\n",
    "\n",
    "# unuseful muscles \n",
    "y=y.drop(labels={'FPL','TBlg'},axis=1)\n",
    "\n",
    "# define model\n",
    "model_angle2 = LinearRegression()\n",
    "# fit model\n",
    "reg_angle2 = model_angle2.fit(X.angle_2.values.reshape(-1, 1),y)\n",
    "beta_hat2 = [reg_angle2.intercept_] + reg_angle2.coef_.tolist()\n",
    "\n",
    "# ANGLE 2 make a prediction based on flexion coude\n",
    "row = np.array([1])\n",
    "yhat_angle2 = model_angle2.predict(row.reshape(1, -1))\n",
    "# summarize prediction\n",
    "print(yhat_angle2)"
   ]
  },
  {
   "cell_type": "markdown",
   "metadata": {},
   "source": [
    "['APL', 'Brach1', 'ECR', 'PT', 'Brach2', 'FCU', 'ECU', 'LatDor'] ['TBlat', 'DELant', 'DELmed', 'DELpost', 'PMcl', 'Infra', 'Supra', 'TRmed']"
   ]
  },
  {
   "cell_type": "code",
   "execution_count": 43,
   "metadata": {},
   "outputs": [
    {
     "name": "stdout",
     "output_type": "stream",
     "text": [
      "[-0.09687595 -0.07520749 -0.07451313 -0.05552223 -0.04529766 -0.02070144\n",
      " -0.01682486 -0.01505868 -0.0111917  -0.01034332  0.01756243  0.02241341\n",
      "  0.02428215  0.03658987  0.05423171  0.05554925]\n",
      "[ 9  1 12 13  2  7  4 11  8  5  6 14  3 15  0 10]\n"
     ]
    }
   ],
   "source": [
    "print(np.sort(reg_angle2.coef_[:,0],axis=0))\n",
    "print(np.argsort(reg_angle2.coef_[:,0],axis=0))"
   ]
  },
  {
   "cell_type": "markdown",
   "metadata": {},
   "source": [
    "Muscles mostly active:\n",
    "\n",
    "Positive: DELmed, APL, TRmed, PT\n",
    "\n",
    "Negative: DELant, Brach1, PMcl"
   ]
  },
  {
   "cell_type": "markdown",
   "metadata": {},
   "source": [
    "### Angle 5: Shoulder flexion/extension"
   ]
  },
  {
   "cell_type": "markdown",
   "metadata": {},
   "source": [
    "#### Based on reg coeff & pvalues"
   ]
  },
  {
   "cell_type": "code",
   "execution_count": 44,
   "metadata": {},
   "outputs": [
    {
     "name": "stdout",
     "output_type": "stream",
     "text": [
      "[0.10239121 0.19605926 0.23075007 0.04602545 0.30321766 0.11947815\n",
      " 0.55774757 0.34659248 0.10528094 0.2340503  0.22632545 0.44221961\n",
      " 0.20701865 0.18363873 0.19584094 0.70735881 0.27193328 0.18757019\n",
      " 0.32790134 0.10155187 0.01488137 0.32525958 0.16190873 0.39680388\n",
      " 0.37901475 0.39633717 0.24351408]\n",
      "[-0.00363483  0.004468    0.01471246 -0.03315675  0.11038518 -0.012246\n",
      "  0.06100713 -0.02024607 -0.03846635 -0.0578784  -0.02468661  0.07026078\n",
      "  0.04440099 -0.03200156  0.16765762  0.07562526 -0.00630493  0.07645302\n",
      "  0.24908922 -0.05559923 -0.05983177  0.0871012   0.00923598  0.0961045\n",
      "  0.03483319  0.08949201  0.07696651]\n"
     ]
    }
   ],
   "source": [
    "# make a prediction based on \n",
    "row = [0, 0, 1, 0, 0, 0]\n",
    "yhat = model.predict([row])\n",
    "# summarize prediction\n",
    "print(yhat[0])\n",
    "print(reg.coef_[:,2])"
   ]
  },
  {
   "cell_type": "code",
   "execution_count": 45,
   "metadata": {},
   "outputs": [
    {
     "name": "stdout",
     "output_type": "stream",
     "text": [
      "['The', 'FPL', 'APL', 'FD2', 'Brach1', 'FCR', 'ECR', 'PT', 'FD34', 'Brach2', 'FCU', 'ECU', 'ED', 'BBlg', 'LatDor'] ['BBsh', 'TBlg', 'TBlat', 'DELant', 'DELmed', 'DELpost', 'PMcl', 'PMst', 'Infra', 'Supra', 'TRhigh', 'TRmed']\n"
     ]
    }
   ],
   "source": [
    "print(muscles_list_1,muscles_list_2)"
   ]
  },
  {
   "cell_type": "code",
   "execution_count": 46,
   "metadata": {},
   "outputs": [
    {
     "name": "stdout",
     "output_type": "stream",
     "text": [
      "[0.00363483 0.004468   0.00630493 0.00923598 0.012246   0.01471246\n",
      " 0.02024607 0.02468661 0.03200156 0.03315675 0.03483319 0.03846635\n",
      " 0.04440099 0.05559923 0.0578784  0.05983177 0.06100713 0.07026078\n",
      " 0.07562526 0.07645302 0.07696651 0.0871012  0.08949201 0.0961045\n",
      " 0.11038518 0.16765762 0.24908922]\n",
      "[ 0  1 16 22  5  2  7 10 13  3 24  8 12 19  9 20  6 11 15 17 26 21 25 23\n",
      "  4 14 18]\n"
     ]
    }
   ],
   "source": [
    "print(np.sort(np.abs(reg.coef_[:,2]),axis=0))\n",
    "print(np.argsort(np.abs(reg.coef_[:,2]),axis=0))"
   ]
  },
  {
   "cell_type": "markdown",
   "metadata": {},
   "source": [
    "For Angle 5 = Shoulder Flexion/Extension, \n",
    "\n",
    "Muscles not necessary: The, FPL, TBlg, PMst, FCR, APL\n",
    "--> Retrain model without them"
   ]
  },
  {
   "cell_type": "code",
   "execution_count": 48,
   "metadata": {},
   "outputs": [
    {
     "name": "stdout",
     "output_type": "stream",
     "text": [
      "[[0.09977787 0.26017186 0.36587287 0.2519553  0.17072702 0.23054515\n",
      "  0.28620001 0.16525151 0.24316891 0.26043082 0.29468716 0.20518097\n",
      "  0.35682746 0.18657685 0.16527046 0.25195168 0.27499958 0.34495584\n",
      "  0.38315374 0.19610458]]\n"
     ]
    }
   ],
   "source": [
    "#Model param\n",
    "nb_angles = 1\n",
    "nb_samples = len(df_angles)\n",
    "nb_emg = 20\n",
    "n_features=nb_angles\n",
    "n_informative=nb_angles\n",
    "n_targets=nb_emg\n",
    "\n",
    "X=df_angles\n",
    "# bad EMG data\n",
    "y=df_emg.drop(labels={'FD34','PMst'},axis=1)\n",
    "# unuseful muscles \n",
    "y=y.drop(labels={'The','FPL','TBlg','FCR','APL'},axis=1)\n",
    "\n",
    "# define model\n",
    "model_angle5 = LinearRegression()\n",
    "# fit model\n",
    "reg_angle5 = model_angle5.fit(X.angle_5.values.reshape(-1, 1),y)\n",
    "beta_hat5 = [reg_angle5.intercept_] + reg_angle5.coef_.tolist()\n",
    "\n",
    "# ANGLE 2 make a prediction based on flexion coude\n",
    "row = np.array([1])\n",
    "yhat_angle5 = model_angle5.predict(row.reshape(1, -1))\n",
    "# summarize prediction\n",
    "print(yhat_angle5)"
   ]
  },
  {
   "cell_type": "code",
   "execution_count": 49,
   "metadata": {},
   "outputs": [
    {
     "name": "stdout",
     "output_type": "stream",
     "text": [
      "2.0383\n",
      "-0.075106\n"
     ]
    }
   ],
   "source": [
    "print(df_angles.angle_5.max())\n",
    "print(df_angles.angle_5.min())"
   ]
  },
  {
   "cell_type": "code",
   "execution_count": 50,
   "metadata": {},
   "outputs": [
    {
     "name": "stdout",
     "output_type": "stream",
     "text": [
      "[-0.04051187 -0.02956801 -0.01480523 -0.01310739 -0.0084614  -0.004603\n",
      "  0.00095677  0.00864352  0.02602958  0.05224538  0.0712919   0.07418896\n",
      "  0.0749349   0.07741351  0.08620405  0.08727036  0.09765892  0.10951573\n",
      "  0.14425096  0.22277169]\n",
      "[13  4  0 14  3 10  5  8 17  7 18  2 15 19 11  6 16  1  9 12]\n"
     ]
    }
   ],
   "source": [
    "print(np.sort(reg_angle5.coef_[:,0],axis=0))\n",
    "print(np.argsort(reg_angle5.coef_[:,0],axis=0))"
   ]
  },
  {
   "cell_type": "markdown",
   "metadata": {},
   "source": [
    "['FD2', 'Brach1', 'ECR', 'PT', 'Brach2', 'FCU', 'ECU', 'ED', 'BBlg', 'LatDor'] ['BBsh', 'TBlat', 'DELant', 'DELmed', 'DELpost', 'PMcl', 'Infra', 'Supra', 'TRhigh', 'TRmed']"
   ]
  },
  {
   "cell_type": "markdown",
   "metadata": {},
   "source": [
    "coherent that DELpost has little contraction percentage because the range of ALEX exoskeletton doesn't allow for a real extension of the shoulder towards the back (min = -0.075106)"
   ]
  },
  {
   "cell_type": "markdown",
   "metadata": {},
   "source": [
    "Muscles mostly active:\n",
    "\n",
    "Positive: DELant, LatDor, Brach1, TRmed, ECU, \n",
    "\n",
    "Negative: DELmed, Brach2, FD2, DELpost\n",
    "\n",
    "Unuseful muscles:\n",
    "3 10  5  8 \n",
    "PT, BBsh,FCU, BBlg\n",
    "--> retrain without them"
   ]
  },
  {
   "cell_type": "code",
   "execution_count": 51,
   "metadata": {},
   "outputs": [
    {
     "name": "stdout",
     "output_type": "stream",
     "text": [
      "[[0.09977787 0.26017186 0.36587287 0.17072702 0.28620001 0.16525151\n",
      "  0.26043082 0.20518097 0.35682746 0.18657685 0.16527046 0.25195168\n",
      "  0.27499958 0.34495584 0.38315374 0.19610458]]\n"
     ]
    }
   ],
   "source": [
    "#Model param\n",
    "nb_angles = 1\n",
    "nb_samples = len(df_angles)\n",
    "nb_emg = 16\n",
    "n_features=nb_angles\n",
    "n_informative=nb_angles\n",
    "n_targets=nb_emg\n",
    "\n",
    "X=df_angles\n",
    "# unuseful muscles \n",
    "y=y.drop(labels={'PT','BBsh','FCU','BBlg'},axis=1)\n",
    "\n",
    "# define model\n",
    "model_angle5 = LinearRegression()\n",
    "# fit model\n",
    "reg_angle5 = model_angle5.fit(X.angle_5.values.reshape(-1, 1),y)\n",
    "beta_hat5 = [reg_angle5.intercept_] + reg_angle5.coef_.tolist()\n",
    "\n",
    "# ANGLE 2 make a prediction based on flexion coude\n",
    "row = np.array([1])\n",
    "yhat_angle5 = model_angle5.predict(row.reshape(1, -1))\n",
    "# summarize prediction\n",
    "print(yhat_angle5)"
   ]
  },
  {
   "cell_type": "code",
   "execution_count": 53,
   "metadata": {},
   "outputs": [
    {
     "name": "stdout",
     "output_type": "stream",
     "text": [
      "[-0.04051187 -0.02956801 -0.01480523 -0.01310739  0.02602958  0.05224538\n",
      "  0.0712919   0.07418896  0.0749349   0.07741351  0.08620405  0.08727036\n",
      "  0.09765892  0.10951573  0.14425096  0.22277169]\n",
      "[ 9  3  0 10 13  5 14  2 11 15  7  4 12  1  6  8]\n"
     ]
    }
   ],
   "source": [
    "print(np.sort(reg_angle5.coef_[:,0],axis=0))\n",
    "print(np.argsort(reg_angle5.coef_[:,0],axis=0))"
   ]
  },
  {
   "cell_type": "markdown",
   "metadata": {},
   "source": [
    "['FD2', 'Brach1', 'ECR', 'Brach2', 'ECU', 'ED', 'LatDor'] ['TBlat', 'DELant', 'DELmed', 'DELpost', 'PMcl', 'Infra', 'Supra', 'TRhigh', 'TRmed']"
   ]
  },
  {
   "cell_type": "markdown",
   "metadata": {},
   "source": [
    "Muscles mostly active:\n",
    "\n",
    "Positive: DELant, LatDor, Brach1, PMcl\n",
    "\n",
    "Negative: DELmed, Brach2"
   ]
  },
  {
   "cell_type": "markdown",
   "metadata": {},
   "source": [
    "### Angle 7: Prosupination forearm/wrist"
   ]
  },
  {
   "cell_type": "markdown",
   "metadata": {},
   "source": [
    "#### Based on reg coeff & pvalues"
   ]
  },
  {
   "cell_type": "code",
   "execution_count": 54,
   "metadata": {},
   "outputs": [
    {
     "name": "stdout",
     "output_type": "stream",
     "text": [
      "[ 0.1215321   0.17332487  0.2080939   0.07165965  0.18202692  0.13443743\n",
      "  0.51867162  0.35705397  0.15953895  0.23424448  0.30230541  0.3880887\n",
      "  0.19983043  0.12396954 -0.03184902  0.57378173  0.2254264   0.10370199\n",
      "  0.01585138  0.10466769 -0.02063371  0.27593392  0.15159822  0.24712463\n",
      "  0.29950231  0.28952177  0.14031685]\n",
      "[ 0.08084526  0.00028884  0.10636464 -0.03429384  0.15395681  0.02576038\n",
      "  0.13367361  0.08839969  0.01482608  0.01205224  0.0301237   0.24654251\n",
      "  0.08886907 -0.07655909 -0.07970846  0.19671955  0.06766821  0.06470445\n",
      " -0.07019845  0.02642905 -0.0379371   0.05648391  0.03970943  0.16446376\n",
      "  0.05395604 -0.00187011  0.05511155]\n"
     ]
    }
   ],
   "source": [
    "# make a prediction based on \n",
    "row = [0, 0, 0, 0, 1, 0]\n",
    "yhat = model.predict([row])\n",
    "# summarize prediction\n",
    "print(yhat[0])\n",
    "print(reg.coef_[:,5])"
   ]
  },
  {
   "cell_type": "code",
   "execution_count": 55,
   "metadata": {},
   "outputs": [
    {
     "name": "stdout",
     "output_type": "stream",
     "text": [
      "['The', 'FPL', 'APL', 'FD2', 'Brach1', 'FCR', 'ECR', 'PT', 'FD34', 'Brach2', 'FCU', 'ECU', 'ED', 'BBlg', 'LatDor'] ['BBsh', 'TBlg', 'TBlat', 'DELant', 'DELmed', 'DELpost', 'PMcl', 'PMst', 'Infra', 'Supra', 'TRhigh', 'TRmed']\n"
     ]
    }
   ],
   "source": [
    "print(muscles_list_1,muscles_list_2)"
   ]
  },
  {
   "cell_type": "code",
   "execution_count": 56,
   "metadata": {},
   "outputs": [
    {
     "name": "stdout",
     "output_type": "stream",
     "text": [
      "[0.00028884 0.00187011 0.01205224 0.01482608 0.02576038 0.02642905\n",
      " 0.0301237  0.03429384 0.0379371  0.03970943 0.05395604 0.05511155\n",
      " 0.05648391 0.06470445 0.06766821 0.07019845 0.07655909 0.07970846\n",
      " 0.08084526 0.08839969 0.08886907 0.10636464 0.13367361 0.15395681\n",
      " 0.16446376 0.19671955 0.24654251]\n",
      "[ 1 25  9  8  5 19 10  3 20 22 24 26 21 17 16 18 13 14  0  7 12  2  6  4\n",
      " 23 15 11]\n"
     ]
    }
   ],
   "source": [
    "print(np.sort(np.abs(reg.coef_[:,5]),axis=0))\n",
    "print(np.argsort(np.abs(reg.coef_[:,5]),axis=0))"
   ]
  },
  {
   "cell_type": "markdown",
   "metadata": {},
   "source": [
    "For Angle 7 = Prosupination forearm/wrist, \n",
    "\n",
    "Muscles not necessary: FPL, TRhigh, Brach2, FD34, FCR, DELmed\n",
    "--> Retrain model without them"
   ]
  },
  {
   "cell_type": "code",
   "execution_count": 58,
   "metadata": {},
   "outputs": [
    {
     "name": "stdout",
     "output_type": "stream",
     "text": [
      "[[0.03344046 0.08824647 0.08556202 0.09634235 0.24210365 0.20130339\n",
      "  0.22003294 0.08882998 0.10305798 0.08405813 0.09635027 0.31788922\n",
      "  0.21614299 0.0579476  0.11458378 0.02388801 0.21939882 0.07464438\n",
      "  0.26990608 0.04936312]]\n"
     ]
    }
   ],
   "source": [
    "#Model param\n",
    "nb_angles = 1\n",
    "nb_samples = len(df_angles)\n",
    "nb_emg = 20\n",
    "n_features=nb_angles\n",
    "n_informative=nb_angles\n",
    "n_targets=nb_emg\n",
    "\n",
    "X=df_angles\n",
    "# bad EMG data\n",
    "y=df_emg.drop(labels={'FD34','PMst'},axis=1)\n",
    "# unuseful muscles \n",
    "y=y.drop(labels={'FPL','TRhigh','Brach2','FCR', 'DELmed'},axis=1)\n",
    "\n",
    "# define model\n",
    "model_angle7 = LinearRegression()\n",
    "# fit model\n",
    "reg_angle7 = model_angle7.fit(X.angle_7.values.reshape(-1, 1),y)\n",
    "beta_hat7 = [reg_angle7.intercept_] + reg_angle7.coef_.tolist()\n",
    "\n",
    "# ANGLE 2 make a prediction based on flexion coude\n",
    "row = np.array([1])\n",
    "yhat_angle7 = model_angle7.predict(row.reshape(1, -1))\n",
    "# summarize prediction\n",
    "print(yhat_angle7)"
   ]
  },
  {
   "cell_type": "code",
   "execution_count": 59,
   "metadata": {},
   "outputs": [
    {
     "name": "stdout",
     "output_type": "stream",
     "text": [
      "[-0.13734534 -0.12891525 -0.12857498 -0.11456888 -0.1054812  -0.10016595\n",
      " -0.09420387 -0.09337678 -0.09218051 -0.08860186 -0.07718515 -0.05015633\n",
      " -0.03967913 -0.03845605 -0.03613753 -0.01608853 -0.01299215 -0.01049551\n",
      " -0.00750116  0.01611546]\n",
      "[14 17  7  9 15  3 10 19 13 12  4 18  1  5  8  0  2 16  6 11]\n"
     ]
    }
   ],
   "source": [
    "print(np.sort(reg_angle7.coef_[:,0],axis=0))\n",
    "print(np.argsort(reg_angle7.coef_[:,0],axis=0))"
   ]
  },
  {
   "cell_type": "markdown",
   "metadata": {},
   "source": [
    "['The', 'APL', 'FD2', 'Brach1', 'ECR', 'PT', 'FCU', 'ECU', 'ED', 'BBlg', 'LatDor'] ['BBsh', 'TBlg', 'TBlat', 'DELant', 'DELpost', 'PMcl', 'Infra', 'Supra','TRmed']"
   ]
  },
  {
   "cell_type": "markdown",
   "metadata": {},
   "source": [
    "Muscles mostly active:\n",
    "\n",
    "Positive: BBsh\n",
    "\n",
    "Negative: DELant, Infra, ECU\n",
    "\n",
    "Unuseful muscles:\n",
    "...\n",
    "--> retrain without them"
   ]
  },
  {
   "cell_type": "markdown",
   "metadata": {},
   "source": [
    "## Plot"
   ]
  },
  {
   "cell_type": "code",
   "execution_count": 105,
   "metadata": {},
   "outputs": [
    {
     "data": {
      "text/html": [
       "<div>\n",
       "<style scoped>\n",
       "    .dataframe tbody tr th:only-of-type {\n",
       "        vertical-align: middle;\n",
       "    }\n",
       "\n",
       "    .dataframe tbody tr th {\n",
       "        vertical-align: top;\n",
       "    }\n",
       "\n",
       "    .dataframe thead th {\n",
       "        text-align: right;\n",
       "    }\n",
       "</style>\n",
       "<table border=\"1\" class=\"dataframe\">\n",
       "  <thead>\n",
       "    <tr style=\"text-align: right;\">\n",
       "      <th></th>\n",
       "      <th>Muscle</th>\n",
       "      <th>Contraction</th>\n",
       "    </tr>\n",
       "  </thead>\n",
       "  <tbody>\n",
       "    <tr>\n",
       "      <th>0</th>\n",
       "      <td>APL</td>\n",
       "      <td>0.050622</td>\n",
       "    </tr>\n",
       "    <tr>\n",
       "      <th>1</th>\n",
       "      <td>FCR</td>\n",
       "      <td>0.025777</td>\n",
       "    </tr>\n",
       "    <tr>\n",
       "      <th>2</th>\n",
       "      <td>ECR</td>\n",
       "      <td>0.073603</td>\n",
       "    </tr>\n",
       "    <tr>\n",
       "      <th>3</th>\n",
       "      <td>PT</td>\n",
       "      <td>0.060456</td>\n",
       "    </tr>\n",
       "    <tr>\n",
       "      <th>4</th>\n",
       "      <td>Brach2</td>\n",
       "      <td>0.070409</td>\n",
       "    </tr>\n",
       "    <tr>\n",
       "      <th>5</th>\n",
       "      <td>ECU</td>\n",
       "      <td>0.045618</td>\n",
       "    </tr>\n",
       "    <tr>\n",
       "      <th>6</th>\n",
       "      <td>ED</td>\n",
       "      <td>-0.023230</td>\n",
       "    </tr>\n",
       "    <tr>\n",
       "      <th>7</th>\n",
       "      <td>BBlg</td>\n",
       "      <td>0.102543</td>\n",
       "    </tr>\n",
       "    <tr>\n",
       "      <th>8</th>\n",
       "      <td>BBsh</td>\n",
       "      <td>0.186924</td>\n",
       "    </tr>\n",
       "    <tr>\n",
       "      <th>9</th>\n",
       "      <td>TBlg</td>\n",
       "      <td>-0.051070</td>\n",
       "    </tr>\n",
       "    <tr>\n",
       "      <th>10</th>\n",
       "      <td>TBlat</td>\n",
       "      <td>-0.017611</td>\n",
       "    </tr>\n",
       "    <tr>\n",
       "      <th>11</th>\n",
       "      <td>DELant</td>\n",
       "      <td>-0.029497</td>\n",
       "    </tr>\n",
       "    <tr>\n",
       "      <th>12</th>\n",
       "      <td>DELmed</td>\n",
       "      <td>-0.015473</td>\n",
       "    </tr>\n",
       "    <tr>\n",
       "      <th>13</th>\n",
       "      <td>DELpost</td>\n",
       "      <td>-0.026099</td>\n",
       "    </tr>\n",
       "    <tr>\n",
       "      <th>14</th>\n",
       "      <td>TRhigh</td>\n",
       "      <td>-0.032256</td>\n",
       "    </tr>\n",
       "    <tr>\n",
       "      <th>15</th>\n",
       "      <td>TRmed</td>\n",
       "      <td>0.064549</td>\n",
       "    </tr>\n",
       "  </tbody>\n",
       "</table>\n",
       "</div>"
      ],
      "text/plain": [
       "     Muscle  Contraction\n",
       "0       APL     0.050622\n",
       "1       FCR     0.025777\n",
       "2       ECR     0.073603\n",
       "3        PT     0.060456\n",
       "4    Brach2     0.070409\n",
       "5       ECU     0.045618\n",
       "6        ED    -0.023230\n",
       "7      BBlg     0.102543\n",
       "8      BBsh     0.186924\n",
       "9      TBlg    -0.051070\n",
       "10    TBlat    -0.017611\n",
       "11   DELant    -0.029497\n",
       "12   DELmed    -0.015473\n",
       "13  DELpost    -0.026099\n",
       "14   TRhigh    -0.032256\n",
       "15    TRmed     0.064549"
      ]
     },
     "execution_count": 105,
     "metadata": {},
     "output_type": "execute_result"
    }
   ],
   "source": [
    "data6 = pd.DataFrame(data={'Muscle': ['APL', 'FCR', 'ECR', 'PT', 'Brach2', 'ECU', 'ED', 'BBlg','BBsh', 'TBlg', 'TBlat', 'DELant', 'DELmed', 'DELpost', 'TRhigh', 'TRmed'],\n",
    "        'Contraction': [reg_angle6.coef_[:,0][0], reg_angle6.coef_[:,0][1],reg_angle6.coef_[:,0][2],reg_angle6.coef_[:,0][3],\n",
    "        reg_angle6.coef_[:,0][4],reg_angle6.coef_[:,0][5],reg_angle6.coef_[:,0][6],reg_angle6.coef_[:,0][7],\n",
    "        reg_angle6.coef_[:,0][8],reg_angle6.coef_[:,0][9],reg_angle6.coef_[:,0][10],reg_angle6.coef_[:,0][11],\n",
    "        reg_angle6.coef_[:,0][12],reg_angle6.coef_[:,0][13],reg_angle6.coef_[:,0][14],reg_angle6.coef_[:,0][15]]})\n",
    "\n",
    "data6"
   ]
  },
  {
   "cell_type": "code",
   "execution_count": 152,
   "metadata": {},
   "outputs": [
    {
     "data": {
      "image/png": "[encoded data removed]",
      "text/plain": [
       "<Figure size 432x288 with 1 Axes>"
      ]
     },
     "metadata": {},
     "output_type": "display_data"
    }
   ],
   "source": [
    "sns.color_palette('dark')\n",
    "plt.xticks(rotation=90)\n",
    "sns.barplot(x='Muscle', y='Contraction',data=data6)\n",
    "plt.ylabel('Coefficient')\n",
    "plt.title('Linear regression coefficients for elbow flexion angle\\n based on EMG of upper limb muscles', fontsize=16)\n",
    "plt.tight_layout()"
   ]
  },
  {
   "cell_type": "code",
   "execution_count": 128,
   "metadata": {},
   "outputs": [
    {
     "data": {
      "text/html": [
       "<div>\n",
       "<style scoped>\n",
       "    .dataframe tbody tr th:only-of-type {\n",
       "        vertical-align: middle;\n",
       "    }\n",
       "\n",
       "    .dataframe tbody tr th {\n",
       "        vertical-align: top;\n",
       "    }\n",
       "\n",
       "    .dataframe thead th {\n",
       "        text-align: right;\n",
       "    }\n",
       "</style>\n",
       "<table border=\"1\" class=\"dataframe\">\n",
       "  <thead>\n",
       "    <tr style=\"text-align: right;\">\n",
       "      <th></th>\n",
       "      <th>Muscle</th>\n",
       "      <th>Contraction</th>\n",
       "    </tr>\n",
       "  </thead>\n",
       "  <tbody>\n",
       "    <tr>\n",
       "      <th>0</th>\n",
       "      <td>FPL</td>\n",
       "      <td>0.032745</td>\n",
       "    </tr>\n",
       "    <tr>\n",
       "      <th>1</th>\n",
       "      <td>APL</td>\n",
       "      <td>0.018362</td>\n",
       "    </tr>\n",
       "    <tr>\n",
       "      <th>2</th>\n",
       "      <td>FD2</td>\n",
       "      <td>0.020648</td>\n",
       "    </tr>\n",
       "    <tr>\n",
       "      <th>3</th>\n",
       "      <td>Brach1</td>\n",
       "      <td>0.100477</td>\n",
       "    </tr>\n",
       "    <tr>\n",
       "      <th>4</th>\n",
       "      <td>ECR</td>\n",
       "      <td>0.070683</td>\n",
       "    </tr>\n",
       "    <tr>\n",
       "      <th>5</th>\n",
       "      <td>FCU</td>\n",
       "      <td>0.044792</td>\n",
       "    </tr>\n",
       "    <tr>\n",
       "      <th>6</th>\n",
       "      <td>ECU</td>\n",
       "      <td>0.125178</td>\n",
       "    </tr>\n",
       "    <tr>\n",
       "      <th>7</th>\n",
       "      <td>ED</td>\n",
       "      <td>0.061017</td>\n",
       "    </tr>\n",
       "    <tr>\n",
       "      <th>8</th>\n",
       "      <td>BBlg</td>\n",
       "      <td>0.089979</td>\n",
       "    </tr>\n",
       "    <tr>\n",
       "      <th>9</th>\n",
       "      <td>LatDor</td>\n",
       "      <td>0.112216</td>\n",
       "    </tr>\n",
       "    <tr>\n",
       "      <th>10</th>\n",
       "      <td>BBsh</td>\n",
       "      <td>-0.153141</td>\n",
       "    </tr>\n",
       "    <tr>\n",
       "      <th>11</th>\n",
       "      <td>TBlg</td>\n",
       "      <td>0.071627</td>\n",
       "    </tr>\n",
       "    <tr>\n",
       "      <th>12</th>\n",
       "      <td>TBlat</td>\n",
       "      <td>0.114191</td>\n",
       "    </tr>\n",
       "    <tr>\n",
       "      <th>13</th>\n",
       "      <td>DELant</td>\n",
       "      <td>0.164343</td>\n",
       "    </tr>\n",
       "    <tr>\n",
       "      <th>14</th>\n",
       "      <td>DELmed</td>\n",
       "      <td>0.013936</td>\n",
       "    </tr>\n",
       "    <tr>\n",
       "      <th>15</th>\n",
       "      <td>DELpost</td>\n",
       "      <td>0.080637</td>\n",
       "    </tr>\n",
       "    <tr>\n",
       "      <th>16</th>\n",
       "      <td>PMcl</td>\n",
       "      <td>0.031306</td>\n",
       "    </tr>\n",
       "    <tr>\n",
       "      <th>17</th>\n",
       "      <td>Supra</td>\n",
       "      <td>0.019078</td>\n",
       "    </tr>\n",
       "    <tr>\n",
       "      <th>18</th>\n",
       "      <td>TRhigh</td>\n",
       "      <td>0.029929</td>\n",
       "    </tr>\n",
       "    <tr>\n",
       "      <th>19</th>\n",
       "      <td>TRmed</td>\n",
       "      <td>0.092332</td>\n",
       "    </tr>\n",
       "  </tbody>\n",
       "</table>\n",
       "</div>"
      ],
      "text/plain": [
       "     Muscle  Contraction\n",
       "0       FPL     0.032745\n",
       "1       APL     0.018362\n",
       "2       FD2     0.020648\n",
       "3    Brach1     0.100477\n",
       "4       ECR     0.070683\n",
       "5       FCU     0.044792\n",
       "6       ECU     0.125178\n",
       "7        ED     0.061017\n",
       "8      BBlg     0.089979\n",
       "9    LatDor     0.112216\n",
       "10     BBsh    -0.153141\n",
       "11     TBlg     0.071627\n",
       "12    TBlat     0.114191\n",
       "13   DELant     0.164343\n",
       "14   DELmed     0.013936\n",
       "15  DELpost     0.080637\n",
       "16     PMcl     0.031306\n",
       "17    Supra     0.019078\n",
       "18   TRhigh     0.029929\n",
       "19    TRmed     0.092332"
      ]
     },
     "execution_count": 128,
     "metadata": {},
     "output_type": "execute_result"
    }
   ],
   "source": [
    "data1 = pd.DataFrame(data={'Muscle': ['FPL', 'APL', 'FD2', 'Brach1', 'ECR', 'FCU', 'ECU', 'ED', 'BBlg', 'LatDor','BBsh', 'TBlg', 'TBlat', 'DELant', 'DELmed', 'DELpost', 'PMcl', 'Supra', 'TRhigh', 'TRmed'],\n",
    "        'Contraction': [-reg_angle1.coef_[:,0][0], -reg_angle1.coef_[:,0][1],-reg_angle1.coef_[:,0][2],-reg_angle1.coef_[:,0][3],\n",
    "        -reg_angle1.coef_[:,0][4],-reg_angle1.coef_[:,0][5],-reg_angle1.coef_[:,0][6],-reg_angle1.coef_[:,0][7],\n",
    "        -reg_angle1.coef_[:,0][8],-reg_angle1.coef_[:,0][9],-reg_angle1.coef_[:,0][10],-reg_angle1.coef_[:,0][11],\n",
    "        -reg_angle1.coef_[:,0][12],-reg_angle1.coef_[:,0][13],-reg_angle1.coef_[:,0][14],-reg_angle1.coef_[:,0][15],\n",
    "        -reg_angle1.coef_[:,0][16],-reg_angle1.coef_[:,0][17],-reg_angle1.coef_[:,0][18],-reg_angle1.coef_[:,0][19]]})\n",
    "\n",
    "data1"
   ]
  },
  {
   "cell_type": "code",
   "execution_count": 151,
   "metadata": {},
   "outputs": [
    {
     "data": {
      "text/plain": [
       "<function matplotlib.pyplot.tight_layout(*, pad=1.08, h_pad=None, w_pad=None, rect=None)>"
      ]
     },
     "execution_count": 151,
     "metadata": {},
     "output_type": "execute_result"
    },
    {
     "data": {
      "image/png": "[encoded data removed]",
      "text/plain": [
       "<Figure size 432x288 with 1 Axes>"
      ]
     },
     "metadata": {},
     "output_type": "display_data"
    }
   ],
   "source": [
    "sns.color_palette('dark')\n",
    "\n",
    "plt.xticks(rotation=90)\n",
    "sns.barplot(x='Muscle', y='Contraction',data=data1)\n",
    "plt.ylabel('Coefficient')\n",
    "plt.title('Linear regression coefficients for shoulder abduction angle \\n based on EMG of upper limb muscles', fontsize=16)\n",
    "plt.tight_layout"
   ]
  },
  {
   "cell_type": "code",
   "execution_count": 158,
   "metadata": {},
   "outputs": [
    {
     "data": {
      "text/html": [
       "<div>\n",
       "<style scoped>\n",
       "    .dataframe tbody tr th:only-of-type {\n",
       "        vertical-align: middle;\n",
       "    }\n",
       "\n",
       "    .dataframe tbody tr th {\n",
       "        vertical-align: top;\n",
       "    }\n",
       "\n",
       "    .dataframe thead th {\n",
       "        text-align: right;\n",
       "    }\n",
       "</style>\n",
       "<table border=\"1\" class=\"dataframe\">\n",
       "  <thead>\n",
       "    <tr style=\"text-align: right;\">\n",
       "      <th></th>\n",
       "      <th>Muscle</th>\n",
       "      <th>Contraction</th>\n",
       "    </tr>\n",
       "  </thead>\n",
       "  <tbody>\n",
       "    <tr>\n",
       "      <th>0</th>\n",
       "      <td>APL</td>\n",
       "      <td>0.054232</td>\n",
       "    </tr>\n",
       "    <tr>\n",
       "      <th>1</th>\n",
       "      <td>Brach1</td>\n",
       "      <td>-0.075207</td>\n",
       "    </tr>\n",
       "    <tr>\n",
       "      <th>2</th>\n",
       "      <td>ECR</td>\n",
       "      <td>-0.045298</td>\n",
       "    </tr>\n",
       "    <tr>\n",
       "      <th>3</th>\n",
       "      <td>PT</td>\n",
       "      <td>0.024282</td>\n",
       "    </tr>\n",
       "    <tr>\n",
       "      <th>4</th>\n",
       "      <td>Brach2</td>\n",
       "      <td>-0.016825</td>\n",
       "    </tr>\n",
       "    <tr>\n",
       "      <th>5</th>\n",
       "      <td>FCU</td>\n",
       "      <td>-0.010343</td>\n",
       "    </tr>\n",
       "    <tr>\n",
       "      <th>6</th>\n",
       "      <td>ECU</td>\n",
       "      <td>0.017562</td>\n",
       "    </tr>\n",
       "    <tr>\n",
       "      <th>7</th>\n",
       "      <td>LatDor</td>\n",
       "      <td>-0.020701</td>\n",
       "    </tr>\n",
       "    <tr>\n",
       "      <th>8</th>\n",
       "      <td>TBlat</td>\n",
       "      <td>-0.011192</td>\n",
       "    </tr>\n",
       "    <tr>\n",
       "      <th>9</th>\n",
       "      <td>DELant</td>\n",
       "      <td>-0.096876</td>\n",
       "    </tr>\n",
       "    <tr>\n",
       "      <th>10</th>\n",
       "      <td>DELmed</td>\n",
       "      <td>0.055549</td>\n",
       "    </tr>\n",
       "    <tr>\n",
       "      <th>11</th>\n",
       "      <td>DELpost</td>\n",
       "      <td>-0.015059</td>\n",
       "    </tr>\n",
       "    <tr>\n",
       "      <th>12</th>\n",
       "      <td>PMcl</td>\n",
       "      <td>-0.074513</td>\n",
       "    </tr>\n",
       "    <tr>\n",
       "      <th>13</th>\n",
       "      <td>Infra</td>\n",
       "      <td>-0.055522</td>\n",
       "    </tr>\n",
       "    <tr>\n",
       "      <th>14</th>\n",
       "      <td>Supra</td>\n",
       "      <td>0.022413</td>\n",
       "    </tr>\n",
       "    <tr>\n",
       "      <th>15</th>\n",
       "      <td>TRmed</td>\n",
       "      <td>0.036590</td>\n",
       "    </tr>\n",
       "  </tbody>\n",
       "</table>\n",
       "</div>"
      ],
      "text/plain": [
       "     Muscle  Contraction\n",
       "0       APL     0.054232\n",
       "1    Brach1    -0.075207\n",
       "2       ECR    -0.045298\n",
       "3        PT     0.024282\n",
       "4    Brach2    -0.016825\n",
       "5       FCU    -0.010343\n",
       "6       ECU     0.017562\n",
       "7    LatDor    -0.020701\n",
       "8     TBlat    -0.011192\n",
       "9    DELant    -0.096876\n",
       "10   DELmed     0.055549\n",
       "11  DELpost    -0.015059\n",
       "12     PMcl    -0.074513\n",
       "13    Infra    -0.055522\n",
       "14    Supra     0.022413\n",
       "15    TRmed     0.036590"
      ]
     },
     "execution_count": 158,
     "metadata": {},
     "output_type": "execute_result"
    }
   ],
   "source": [
    "data2 = pd.DataFrame(data={'Muscle': ['APL', 'Brach1', 'ECR', 'PT', 'Brach2', 'FCU', 'ECU', 'LatDor','TBlat', 'DELant', 'DELmed', 'DELpost', 'PMcl', 'Infra', 'Supra', 'TRmed'],\n",
    "        'Contraction': [reg_angle2.coef_[:,0][0], reg_angle2.coef_[:,0][1],reg_angle2.coef_[:,0][2],reg_angle2.coef_[:,0][3],\n",
    "        reg_angle2.coef_[:,0][4],reg_angle2.coef_[:,0][5],reg_angle2.coef_[:,0][6],reg_angle2.coef_[:,0][7],\n",
    "        reg_angle2.coef_[:,0][8],reg_angle2.coef_[:,0][9],reg_angle2.coef_[:,0][10],reg_angle2.coef_[:,0][11],\n",
    "        reg_angle2.coef_[:,0][12],reg_angle2.coef_[:,0][13],reg_angle2.coef_[:,0][14],reg_angle2.coef_[:,0][15]]})\n",
    "\n",
    "data2"
   ]
  },
  {
   "cell_type": "code",
   "execution_count": 159,
   "metadata": {},
   "outputs": [
    {
     "data": {
      "text/plain": [
       "<function matplotlib.pyplot.tight_layout(*, pad=1.08, h_pad=None, w_pad=None, rect=None)>"
      ]
     },
     "execution_count": 159,
     "metadata": {},
     "output_type": "execute_result"
    },
    {
     "data": {
      "image/png": "[encoded data removed]",
      "text/plain": [
       "<Figure size 432x288 with 1 Axes>"
      ]
     },
     "metadata": {},
     "output_type": "display_data"
    }
   ],
   "source": [
    "sns.color_palette('dark')\n",
    "\n",
    "plt.xticks(rotation=90)\n",
    "sns.barplot(x='Muscle', y='Contraction',data=data2)\n",
    "plt.ylabel('Coefficient')\n",
    "plt.title('Linear regression coefficients for shoulder rotation angle \\n based on EMG of upper limb muscles', fontsize=16)\n",
    "plt.tight_layout"
   ]
  },
  {
   "cell_type": "code",
   "execution_count": 160,
   "metadata": {},
   "outputs": [
    {
     "data": {
      "text/html": [
       "<div>\n",
       "<style scoped>\n",
       "    .dataframe tbody tr th:only-of-type {\n",
       "        vertical-align: middle;\n",
       "    }\n",
       "\n",
       "    .dataframe tbody tr th {\n",
       "        vertical-align: top;\n",
       "    }\n",
       "\n",
       "    .dataframe thead th {\n",
       "        text-align: right;\n",
       "    }\n",
       "</style>\n",
       "<table border=\"1\" class=\"dataframe\">\n",
       "  <thead>\n",
       "    <tr style=\"text-align: right;\">\n",
       "      <th></th>\n",
       "      <th>Muscle</th>\n",
       "      <th>Contraction</th>\n",
       "    </tr>\n",
       "  </thead>\n",
       "  <tbody>\n",
       "    <tr>\n",
       "      <th>0</th>\n",
       "      <td>FD2</td>\n",
       "      <td>-0.014805</td>\n",
       "    </tr>\n",
       "    <tr>\n",
       "      <th>1</th>\n",
       "      <td>Brach1</td>\n",
       "      <td>0.109516</td>\n",
       "    </tr>\n",
       "    <tr>\n",
       "      <th>2</th>\n",
       "      <td>ECR</td>\n",
       "      <td>0.074189</td>\n",
       "    </tr>\n",
       "    <tr>\n",
       "      <th>3</th>\n",
       "      <td>Brach2</td>\n",
       "      <td>-0.029568</td>\n",
       "    </tr>\n",
       "    <tr>\n",
       "      <th>4</th>\n",
       "      <td>ECU</td>\n",
       "      <td>0.087270</td>\n",
       "    </tr>\n",
       "    <tr>\n",
       "      <th>5</th>\n",
       "      <td>ED</td>\n",
       "      <td>0.052245</td>\n",
       "    </tr>\n",
       "    <tr>\n",
       "      <th>6</th>\n",
       "      <td>LatDor</td>\n",
       "      <td>0.144251</td>\n",
       "    </tr>\n",
       "    <tr>\n",
       "      <th>7</th>\n",
       "      <td>TBlat</td>\n",
       "      <td>0.086204</td>\n",
       "    </tr>\n",
       "    <tr>\n",
       "      <th>8</th>\n",
       "      <td>DELant</td>\n",
       "      <td>0.222772</td>\n",
       "    </tr>\n",
       "    <tr>\n",
       "      <th>9</th>\n",
       "      <td>DELmed</td>\n",
       "      <td>-0.040512</td>\n",
       "    </tr>\n",
       "    <tr>\n",
       "      <th>10</th>\n",
       "      <td>DELpost</td>\n",
       "      <td>-0.013107</td>\n",
       "    </tr>\n",
       "    <tr>\n",
       "      <th>11</th>\n",
       "      <td>PMcl</td>\n",
       "      <td>0.074935</td>\n",
       "    </tr>\n",
       "    <tr>\n",
       "      <th>12</th>\n",
       "      <td>Infra</td>\n",
       "      <td>0.097659</td>\n",
       "    </tr>\n",
       "    <tr>\n",
       "      <th>13</th>\n",
       "      <td>Supra</td>\n",
       "      <td>0.026030</td>\n",
       "    </tr>\n",
       "    <tr>\n",
       "      <th>14</th>\n",
       "      <td>TRhigh</td>\n",
       "      <td>0.071292</td>\n",
       "    </tr>\n",
       "    <tr>\n",
       "      <th>15</th>\n",
       "      <td>TRmed</td>\n",
       "      <td>0.077414</td>\n",
       "    </tr>\n",
       "  </tbody>\n",
       "</table>\n",
       "</div>"
      ],
      "text/plain": [
       "     Muscle  Contraction\n",
       "0       FD2    -0.014805\n",
       "1    Brach1     0.109516\n",
       "2       ECR     0.074189\n",
       "3    Brach2    -0.029568\n",
       "4       ECU     0.087270\n",
       "5        ED     0.052245\n",
       "6    LatDor     0.144251\n",
       "7     TBlat     0.086204\n",
       "8    DELant     0.222772\n",
       "9    DELmed    -0.040512\n",
       "10  DELpost    -0.013107\n",
       "11     PMcl     0.074935\n",
       "12    Infra     0.097659\n",
       "13    Supra     0.026030\n",
       "14   TRhigh     0.071292\n",
       "15    TRmed     0.077414"
      ]
     },
     "execution_count": 160,
     "metadata": {},
     "output_type": "execute_result"
    }
   ],
   "source": [
    "data5 = pd.DataFrame(data={'Muscle': ['FD2', 'Brach1', 'ECR', 'Brach2', 'ECU', 'ED', 'LatDor','TBlat', 'DELant', 'DELmed', 'DELpost', 'PMcl', 'Infra', 'Supra', 'TRhigh', 'TRmed'],\n",
    "        'Contraction': [reg_angle5.coef_[:,0][0], reg_angle5.coef_[:,0][1],reg_angle5.coef_[:,0][2],reg_angle5.coef_[:,0][3],\n",
    "        reg_angle5.coef_[:,0][4],reg_angle5.coef_[:,0][5],reg_angle5.coef_[:,0][6],reg_angle5.coef_[:,0][7],\n",
    "        reg_angle5.coef_[:,0][8],reg_angle5.coef_[:,0][9],reg_angle5.coef_[:,0][10],reg_angle5.coef_[:,0][11],\n",
    "        reg_angle5.coef_[:,0][12],reg_angle5.coef_[:,0][13],reg_angle5.coef_[:,0][14],reg_angle5.coef_[:,0][15]]})\n",
    "\n",
    "data5"
   ]
  },
  {
   "cell_type": "code",
   "execution_count": 161,
   "metadata": {},
   "outputs": [
    {
     "data": {
      "text/plain": [
       "<function matplotlib.pyplot.tight_layout(*, pad=1.08, h_pad=None, w_pad=None, rect=None)>"
      ]
     },
     "execution_count": 161,
     "metadata": {},
     "output_type": "execute_result"
    },
    {
     "data": {
      "image/png": "[encoded data removed]",
      "text/plain": [
       "<Figure size 432x288 with 1 Axes>"
      ]
     },
     "metadata": {},
     "output_type": "display_data"
    }
   ],
   "source": [
    "sns.color_palette('dark')\n",
    "\n",
    "plt.xticks(rotation=90)\n",
    "sns.barplot(x='Muscle', y='Contraction',data=data5)\n",
    "plt.ylabel('Coefficient')\n",
    "plt.title('Linear regression coefficients for shoulder flexion angle \\n based on EMG of upper limb muscles', fontsize=16)\n",
    "plt.tight_layout"
   ]
  },
  {
   "cell_type": "code",
   "execution_count": 169,
   "metadata": {},
   "outputs": [
    {
     "data": {
      "text/html": [
       "<div>\n",
       "<style scoped>\n",
       "    .dataframe tbody tr th:only-of-type {\n",
       "        vertical-align: middle;\n",
       "    }\n",
       "\n",
       "    .dataframe tbody tr th {\n",
       "        vertical-align: top;\n",
       "    }\n",
       "\n",
       "    .dataframe thead th {\n",
       "        text-align: right;\n",
       "    }\n",
       "</style>\n",
       "<table border=\"1\" class=\"dataframe\">\n",
       "  <thead>\n",
       "    <tr style=\"text-align: right;\">\n",
       "      <th></th>\n",
       "      <th>Muscle</th>\n",
       "      <th>Contraction</th>\n",
       "    </tr>\n",
       "  </thead>\n",
       "  <tbody>\n",
       "    <tr>\n",
       "      <th>0</th>\n",
       "      <td>The</td>\n",
       "      <td>0.016089</td>\n",
       "    </tr>\n",
       "    <tr>\n",
       "      <th>1</th>\n",
       "      <td>APL</td>\n",
       "      <td>0.039679</td>\n",
       "    </tr>\n",
       "    <tr>\n",
       "      <th>2</th>\n",
       "      <td>FD2</td>\n",
       "      <td>0.012992</td>\n",
       "    </tr>\n",
       "    <tr>\n",
       "      <th>3</th>\n",
       "      <td>Brach1</td>\n",
       "      <td>0.100166</td>\n",
       "    </tr>\n",
       "    <tr>\n",
       "      <th>4</th>\n",
       "      <td>ECR</td>\n",
       "      <td>0.077185</td>\n",
       "    </tr>\n",
       "    <tr>\n",
       "      <th>5</th>\n",
       "      <td>PT</td>\n",
       "      <td>0.038456</td>\n",
       "    </tr>\n",
       "    <tr>\n",
       "      <th>6</th>\n",
       "      <td>FCU</td>\n",
       "      <td>0.007501</td>\n",
       "    </tr>\n",
       "    <tr>\n",
       "      <th>7</th>\n",
       "      <td>ECU</td>\n",
       "      <td>0.128575</td>\n",
       "    </tr>\n",
       "    <tr>\n",
       "      <th>8</th>\n",
       "      <td>ED</td>\n",
       "      <td>0.036138</td>\n",
       "    </tr>\n",
       "    <tr>\n",
       "      <th>9</th>\n",
       "      <td>BBlg</td>\n",
       "      <td>0.114569</td>\n",
       "    </tr>\n",
       "    <tr>\n",
       "      <th>10</th>\n",
       "      <td>LatDor</td>\n",
       "      <td>0.094204</td>\n",
       "    </tr>\n",
       "    <tr>\n",
       "      <th>11</th>\n",
       "      <td>BBsh</td>\n",
       "      <td>-0.016115</td>\n",
       "    </tr>\n",
       "    <tr>\n",
       "      <th>12</th>\n",
       "      <td>TBlg</td>\n",
       "      <td>0.088602</td>\n",
       "    </tr>\n",
       "    <tr>\n",
       "      <th>13</th>\n",
       "      <td>TBlat</td>\n",
       "      <td>0.092181</td>\n",
       "    </tr>\n",
       "    <tr>\n",
       "      <th>14</th>\n",
       "      <td>DELant</td>\n",
       "      <td>0.137345</td>\n",
       "    </tr>\n",
       "    <tr>\n",
       "      <th>15</th>\n",
       "      <td>DELpost</td>\n",
       "      <td>0.105481</td>\n",
       "    </tr>\n",
       "    <tr>\n",
       "      <th>16</th>\n",
       "      <td>PMcl</td>\n",
       "      <td>0.010496</td>\n",
       "    </tr>\n",
       "    <tr>\n",
       "      <th>17</th>\n",
       "      <td>Infra</td>\n",
       "      <td>0.128915</td>\n",
       "    </tr>\n",
       "    <tr>\n",
       "      <th>18</th>\n",
       "      <td>Supra</td>\n",
       "      <td>0.050156</td>\n",
       "    </tr>\n",
       "    <tr>\n",
       "      <th>19</th>\n",
       "      <td>TRmed</td>\n",
       "      <td>0.093377</td>\n",
       "    </tr>\n",
       "  </tbody>\n",
       "</table>\n",
       "</div>"
      ],
      "text/plain": [
       "     Muscle  Contraction\n",
       "0       The     0.016089\n",
       "1       APL     0.039679\n",
       "2       FD2     0.012992\n",
       "3    Brach1     0.100166\n",
       "4       ECR     0.077185\n",
       "5        PT     0.038456\n",
       "6       FCU     0.007501\n",
       "7       ECU     0.128575\n",
       "8        ED     0.036138\n",
       "9      BBlg     0.114569\n",
       "10   LatDor     0.094204\n",
       "11     BBsh    -0.016115\n",
       "12     TBlg     0.088602\n",
       "13    TBlat     0.092181\n",
       "14   DELant     0.137345\n",
       "15  DELpost     0.105481\n",
       "16     PMcl     0.010496\n",
       "17    Infra     0.128915\n",
       "18    Supra     0.050156\n",
       "19    TRmed     0.093377"
      ]
     },
     "execution_count": 169,
     "metadata": {},
     "output_type": "execute_result"
    }
   ],
   "source": [
    "data7 = pd.DataFrame(data={'Muscle': ['The', 'APL', 'FD2', 'Brach1', 'ECR', 'PT', 'FCU', 'ECU', 'ED', 'BBlg', 'LatDor','BBsh', 'TBlg', 'TBlat', 'DELant', 'DELpost', 'PMcl', 'Infra', 'Supra','TRmed'],\n",
    "        'Contraction': [-reg_angle7.coef_[:,0][0], -reg_angle7.coef_[:,0][1],-reg_angle7.coef_[:,0][2],-reg_angle7.coef_[:,0][3],\n",
    "        -reg_angle7.coef_[:,0][4],-reg_angle7.coef_[:,0][5],-reg_angle7.coef_[:,0][6],-reg_angle7.coef_[:,0][7],\n",
    "        -reg_angle7.coef_[:,0][8],-reg_angle7.coef_[:,0][9],-reg_angle7.coef_[:,0][10],-reg_angle7.coef_[:,0][11],\n",
    "        -reg_angle7.coef_[:,0][12],-reg_angle7.coef_[:,0][13],-reg_angle7.coef_[:,0][14],-reg_angle7.coef_[:,0][15],\n",
    "        -reg_angle7.coef_[:,0][16],-reg_angle7.coef_[:,0][17],-reg_angle7.coef_[:,0][18],-reg_angle7.coef_[:,0][19]]})\n",
    "\n",
    "data7"
   ]
  },
  {
   "cell_type": "code",
   "execution_count": 171,
   "metadata": {},
   "outputs": [
    {
     "data": {
      "text/plain": [
       "<function matplotlib.pyplot.tight_layout(*, pad=1.08, h_pad=None, w_pad=None, rect=None)>"
      ]
     },
     "execution_count": 171,
     "metadata": {},
     "output_type": "execute_result"
    },
    {
     "data": {
      "image/png": "[encoded data removed]",
      "text/plain": [
       "<Figure size 432x288 with 1 Axes>"
      ]
     },
     "metadata": {},
     "output_type": "display_data"
    }
   ],
   "source": [
    "sns.color_palette('dark')\n",
    "\n",
    "plt.xticks(rotation=90)\n",
    "sns.barplot(x='Muscle', y='Contraction',data=data7)\n",
    "plt.ylabel('Coefficient')\n",
    "plt.title('Linear regression coefficients for wrist/forearm pronation angle \\n based on EMG of upper limb muscles', fontsize=16)\n",
    "plt.tight_layout"
   ]
  },
  {
   "cell_type": "code",
   "execution_count": null,
   "metadata": {},
   "outputs": [],
   "source": []
  }
 ],
 "metadata": {
  "interpreter": {
   "hash": "f8d2abd0fdcca308ad0c8c261050b3e27492c45d61aeb9bbf0e7e8e13b749c89"
  },
  "kernelspec": {
   "display_name": "Python 3.9.5 64-bit ('DifferentialDrivePathTracking-oi0KI328': venv)",
   "language": "python",
   "name": "python3"
  },
  "language_info": {
   "codemirror_mode": {
    "name": "ipython",
    "version": 3
   },
   "file_extension": ".py",
   "mimetype": "text/x-python",
   "name": "python",
   "nbconvert_exporter": "python",
   "pygments_lexer": "ipython3",
   "version": "3.8.5"
  },
  "orig_nbformat": 4
 },
 "nbformat": 4,
 "nbformat_minor": 2
}
